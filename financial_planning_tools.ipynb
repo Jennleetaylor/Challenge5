{
 "cells": [
  {
   "cell_type": "markdown",
   "metadata": {},
   "source": [
    "# Financial Planning with APIs and Simulations\n",
    "\n",
    "In this Challenge, you’ll create two financial analysis tools by using a single Jupyter notebook:\n",
    "\n",
    "Part 1: A financial planner for emergencies. The members will be able to use this tool to visualize their current savings. The members can then determine if they have enough reserves for an emergency fund.\n",
    "\n",
    "Part 2: A financial planner for retirement. This tool will forecast the performance of their retirement portfolio in 30 years. To do this, the tool will make an Alpaca API call via the Alpaca SDK to get historical price data for use in Monte Carlo simulations.\n",
    "\n",
    "You’ll use the information from the Monte Carlo simulation to answer questions about the portfolio in your Jupyter notebook.\n",
    "\n"
   ]
  },
  {
   "cell_type": "code",
   "execution_count": 1,
   "metadata": {},
   "outputs": [],
   "source": [
    "# Import the required libraries and dependencies\n",
    "import os\n",
    "import requests\n",
    "import json\n",
    "import pandas as pd\n",
    "from dotenv import load_dotenv\n",
    "import alpaca_trade_api as tradeapi\n",
    "from MCForecastTools import MCSimulation\n",
    "\n",
    "%matplotlib inline"
   ]
  },
  {
   "cell_type": "code",
   "execution_count": 2,
   "metadata": {},
   "outputs": [],
   "source": [
    "# Load the environment variables from the .env file\n",
    "#by calling the load_dotenv function\n",
    "\n",
    "#Do I place the name of the key file to call here as follows?\n",
    "load_dotenv('')\n"
   ]
  },
  {
   "cell_type": "markdown",
   "metadata": {},
   "source": [
    "## Part 1: Create a Financial Planner for Emergencies"
   ]
  },
  {
   "cell_type": "markdown",
   "metadata": {},
   "source": [
    "### Evaluate the Cryptocurrency Wallet by Using the Requests Library\n",
    "\n",
    "In this section, you’ll determine the current value of a member’s cryptocurrency wallet. You’ll collect the current prices for the Bitcoin and Ethereum cryptocurrencies by using the Python Requests library. For the prototype, you’ll assume that the member holds the 1.2 Bitcoins (BTC) and 5.3 Ethereum coins (ETH). To do all this, complete the following steps:\n",
    "\n",
    "1. Create a variable named `monthly_income`, and set its value to `12000`.\n",
    "\n",
    "2. Use the Requests library to get the current price (in US dollars) of Bitcoin (BTC) and Ethereum (ETH) by using the API endpoints that the starter code supplies.\n",
    "\n",
    "3. Navigate the JSON response object to access the current price of each coin, and store each in a variable.\n",
    "\n",
    "    > **Hint** Note the specific identifier for each cryptocurrency in the API JSON response. The Bitcoin identifier is `1`, and the Ethereum identifier is `1027`.\n",
    "\n",
    "4. Calculate the value, in US dollars, of the current amount of each cryptocurrency and of the entire cryptocurrency wallet.\n",
    "\n"
   ]
  },
  {
   "cell_type": "code",
   "execution_count": 3,
   "metadata": {},
   "outputs": [],
   "source": [
    "# The current number of coins for each cryptocurrency asset held in the portfolio.\n",
    "btc_coins = 1.2\n",
    "eth_coins = 5.3"
   ]
  },
  {
   "cell_type": "markdown",
   "metadata": {},
   "source": [
    "#### Step 1: Create a variable named `monthly_income`, and set its value to `12000`."
   ]
  },
  {
   "cell_type": "code",
   "execution_count": 4,
   "metadata": {},
   "outputs": [],
   "source": [
    "# The monthly amount for the member's household income\n",
    "monthly_income = 12000\n"
   ]
  },
  {
   "cell_type": "markdown",
   "metadata": {},
   "source": [
    "#### Review the endpoint URLs for the API calls to Free Crypto API in order to get the current pricing information for both BTC and ETH."
   ]
  },
  {
   "cell_type": "code",
   "execution_count": 5,
   "metadata": {},
   "outputs": [],
   "source": [
    "# The Free Crypto API Call endpoint URLs for the held cryptocurrency assets\n",
    "\n",
    "#Did I do this correctly?\n",
    "btc_url = \"https://api.alternative.me/v2/ticker/Bitcoin/?convert=USD\"\n",
    "eth_url = \"https://api.alternative.me/v2/ticker/Ethereum/?convert=USD\"\n",
    "\n"
   ]
  },
  {
   "cell_type": "markdown",
   "metadata": {},
   "source": [
    "#### Step 2. Use the Requests library to get the current price (in US dollars) of Bitcoin (BTC) and Ethereum (ETH) by using the API endpoints that the starter code supplied."
   ]
  },
  {
   "cell_type": "code",
   "execution_count": 6,
   "metadata": {},
   "outputs": [
    {
     "name": "stdout",
     "output_type": "stream",
     "text": [
      "{\n",
      "    \"data\": {\n",
      "        \"1\": {\n",
      "            \"circulating_supply\": 18996456,\n",
      "            \"id\": 1,\n",
      "            \"last_updated\": 1648490291,\n",
      "            \"max_supply\": 21000000,\n",
      "            \"name\": \"Bitcoin\",\n",
      "            \"quotes\": {\n",
      "                \"USD\": {\n",
      "                    \"market_cap\": 901976752936,\n",
      "                    \"percent_change_1h\": 0.257475985932766,\n",
      "                    \"percent_change_24h\": 6.06941843752609,\n",
      "                    \"percent_change_7d\": 15.2344591509047,\n",
      "                    \"percentage_change_1h\": 0.257475985932766,\n",
      "                    \"percentage_change_24h\": 6.06941843752609,\n",
      "                    \"percentage_change_7d\": 15.2344591509047,\n",
      "                    \"price\": 47573.0,\n",
      "                    \"volume_24h\": 32145711937\n",
      "                }\n",
      "            },\n",
      "            \"rank\": 1,\n",
      "            \"symbol\": \"BTC\",\n",
      "            \"total_supply\": 18996456,\n",
      "            \"website_slug\": \"bitcoin\"\n",
      "        }\n",
      "    },\n",
      "    \"metadata\": {\n",
      "        \"error\": null,\n",
      "        \"num_cryptocurrencies\": 3105,\n",
      "        \"timestamp\": 1648490291\n",
      "    }\n",
      "}\n"
     ]
    }
   ],
   "source": [
    "# Using the Python requests library, make an API call to access the current price of BTC\n",
    "btc_response= requests.get(btc_url).json()\n",
    "\n",
    "\n",
    "# Use the json.dumps function to review the response data from the API call\n",
    "# Use the indent and sort_keys parameters to make the response object readable\n",
    "# is this correct:\n",
    "print(json.dumps(btc_response, indent=4, sort_keys=True))\n"
   ]
  },
  {
   "cell_type": "code",
   "execution_count": 7,
   "metadata": {},
   "outputs": [
    {
     "name": "stdout",
     "output_type": "stream",
     "text": [
      "{\n",
      "    \"data\": {\n",
      "        \"1027\": {\n",
      "            \"circulating_supply\": 120148431,\n",
      "            \"id\": 1027,\n",
      "            \"last_updated\": 1648490310,\n",
      "            \"max_supply\": 0,\n",
      "            \"name\": \"Ethereum\",\n",
      "            \"quotes\": {\n",
      "                \"USD\": {\n",
      "                    \"market_cap\": 404896208019,\n",
      "                    \"percent_change_1h\": 0.56371600926448,\n",
      "                    \"percent_change_24h\": 6.45013622105477,\n",
      "                    \"percent_change_7d\": 18.1640551720707,\n",
      "                    \"percentage_change_1h\": 0.56371600926448,\n",
      "                    \"percentage_change_24h\": 6.45013622105477,\n",
      "                    \"percentage_change_7d\": 18.1640551720707,\n",
      "                    \"price\": 3380.25,\n",
      "                    \"volume_24h\": 18469921582\n",
      "                }\n",
      "            },\n",
      "            \"rank\": 2,\n",
      "            \"symbol\": \"ETH\",\n",
      "            \"total_supply\": 120148431,\n",
      "            \"website_slug\": \"ethereum\"\n",
      "        }\n",
      "    },\n",
      "    \"metadata\": {\n",
      "        \"error\": null,\n",
      "        \"num_cryptocurrencies\": 3105,\n",
      "        \"timestamp\": 1648490310\n",
      "    }\n",
      "}\n"
     ]
    }
   ],
   "source": [
    "# Using the Python requests library, make an API call to access the current price ETH\n",
    "eth_response= requests.get(eth_url).json()\n",
    "\n",
    "# Use the json.dumps function to review the response data from the API call\n",
    "# Use the indent and sort_keys parameters to make the response object readable\n",
    "# is this correct:\n",
    "print(json.dumps(eth_response, indent=4, sort_keys=True))\n"
   ]
  },
  {
   "cell_type": "markdown",
   "metadata": {},
   "source": [
    "#### Step 3: Navigate the JSON response object to access the current price of each coin, and store each in a variable."
   ]
  },
  {
   "cell_type": "code",
   "execution_count": 8,
   "metadata": {},
   "outputs": [
    {
     "name": "stdout",
     "output_type": "stream",
     "text": [
      "47573.0\n"
     ]
    }
   ],
   "source": [
    "# Navigate the BTC response object to access the current price of BTC\n",
    "btc_price = btc_response['data']['1']['quotes']['USD']['price']\n",
    "\n",
    "# Print the current price of BTC\n",
    "print(btc_price)\n"
   ]
  },
  {
   "cell_type": "code",
   "execution_count": 9,
   "metadata": {},
   "outputs": [
    {
     "name": "stdout",
     "output_type": "stream",
     "text": [
      "3380.25\n"
     ]
    }
   ],
   "source": [
    "# Navigate the BTC response object to access the current price of ETH\n",
    "eth_price = eth_response['data']['1027']['quotes']['USD']['price']\n",
    "\n",
    "# Print the current price of ETH\n",
    "print(eth_price)\n"
   ]
  },
  {
   "cell_type": "raw",
   "metadata": {},
   "source": [
    "### Step 4: Calculate the value, in US dollars, of the current amount of each cryptocurrency and of the entire cryptocurrency wallet."
   ]
  },
  {
   "cell_type": "code",
   "execution_count": 10,
   "metadata": {},
   "outputs": [
    {
     "name": "stdout",
     "output_type": "stream",
     "text": [
      "57087.6\n"
     ]
    }
   ],
   "source": [
    "# Compute the current value of the BTC holding \n",
    "btc_value = btc_coins * btc_price\n",
    "\n",
    "# Print current value of your holding in BTC\n",
    "print(btc_value)\n"
   ]
  },
  {
   "cell_type": "code",
   "execution_count": 11,
   "metadata": {},
   "outputs": [
    {
     "name": "stdout",
     "output_type": "stream",
     "text": [
      "17915.325\n"
     ]
    }
   ],
   "source": [
    "# Compute the current value of the ETH holding \n",
    "eth_value = eth_coins * eth_price\n",
    "\n",
    "# Print current value of your holding in ETH\n",
    "print(eth_value)\n"
   ]
  },
  {
   "cell_type": "code",
   "execution_count": 12,
   "metadata": {},
   "outputs": [
    {
     "name": "stdout",
     "output_type": "stream",
     "text": [
      "The total value of the crypto portfolio is  75002.93\n"
     ]
    }
   ],
   "source": [
    "# Compute the total value of the cryptocurrency wallet\n",
    "# Add the value of the BTC holding to the value of the ETH holding\n",
    "total_crypto_wallet = btc_value + eth_value\n",
    "\n",
    "# Print current cryptocurrency wallet balance\n",
    "print(f\"The total value of the crypto portfolio is {total_crypto_wallet: .2f}\")\n"
   ]
  },
  {
   "cell_type": "markdown",
   "metadata": {
    "tags": []
   },
   "source": [
    "### Evaluate the Stock and Bond Holdings by Using the Alpaca SDK\n",
    "\n",
    "In this section, you’ll determine the current value of a member’s stock and bond holdings. You’ll make an API call to Alpaca via the Alpaca SDK to get the current closing prices of the SPDR S&P 500 ETF Trust (ticker: SPY) and of the iShares Core US Aggregate Bond ETF (ticker: AGG). For the prototype, assume that the member holds 110 shares of SPY, which represents the stock portion of their portfolio, and 200 shares of AGG, which represents the bond portion. To do all this, complete the following steps:\n",
    "\n",
    "1. In the `Starter_Code` folder, create an environment file (`.env`) to store the values of your Alpaca API key and Alpaca secret key.\n",
    "\n",
    "2. Set the variables for the Alpaca API and secret keys. Using the Alpaca SDK, create the Alpaca `tradeapi.REST` object. In this object, include the parameters for the Alpaca API key, the secret key, and the version number.\n",
    "\n",
    "3. Set the following parameters for the Alpaca API call:\n",
    "\n",
    "    - `tickers`: Use the tickers for the member’s stock and bond holdings.\n",
    "\n",
    "    - `timeframe`: Use a time frame of one day.\n",
    "\n",
    "    - `start_date` and `end_date`: Use the same date for these parameters, and format them with the date of the previous weekday (or `2020-08-07`). This is because you want the one closing price for the most-recent trading day.\n",
    "\n",
    "4. Get the current closing prices for `SPY` and `AGG` by using the Alpaca `get_barset` function. Format the response as a Pandas DataFrame by including the `df` property at the end of the `get_barset` function.\n",
    "\n",
    "5. Navigating the Alpaca response DataFrame, select the `SPY` and `AGG` closing prices, and store them as variables.\n",
    "\n",
    "6. Calculate the value, in US dollars, of the current amount of shares in each of the stock and bond portions of the portfolio, and print the results.\n"
   ]
  },
  {
   "cell_type": "markdown",
   "metadata": {},
   "source": [
    "#### Review the total number of shares held in both (SPY) and (AGG)."
   ]
  },
  {
   "cell_type": "code",
   "execution_count": 13,
   "metadata": {},
   "outputs": [],
   "source": [
    "# Current amount of shares held in both the stock (SPY) and bond (AGG) portion of the portfolio.\n",
    "spy_shares = 110\n",
    "agg_shares = 200\n"
   ]
  },
  {
   "cell_type": "markdown",
   "metadata": {},
   "source": [
    "#### Step 1: In the `Starter_Code` folder, create an environment file (`.env`) to store the values of your Alpaca API key and Alpaca secret key."
   ]
  },
  {
   "cell_type": "markdown",
   "metadata": {},
   "source": [
    "#### Step 2: Set the variables for the Alpaca API and secret keys. Using the Alpaca SDK, create the Alpaca `tradeapi.REST` object. In this object, include the parameters for the Alpaca API key, the secret key, and the version number."
   ]
  },
  {
   "cell_type": "code",
   "execution_count": 14,
   "metadata": {},
   "outputs": [],
   "source": [
    "# Set the variables for the Alpaca API and secret keys\n",
    "alpaca_api_key = os.getenv(\"ALPACA_API_KEY\")\n",
    "alpaca_secret_key = os.getenv(\"ALPACA_SECRET_KEY\")\n",
    "\n",
    "# Create the Alpaca tradeapi.REST object\n",
    "alpaca = tradeapi.REST(\n",
    "    alpaca_api_key,\n",
    "    alpaca_secret_key,\n",
    "    api_version ='v2'\n",
    ")\n"
   ]
  },
  {
   "cell_type": "markdown",
   "metadata": {},
   "source": [
    "#### Step 3: Set the following parameters for the Alpaca API call:\n",
    "\n",
    "- `tickers`: Use the tickers for the member’s stock and bond holdings.\n",
    "\n",
    "- `timeframe`: Use a time frame of one day.\n",
    "\n",
    "- `start_date` and `end_date`: Use the same date for these parameters, and format them with the date of the previous weekday (or `2020-08-07`). This is because you want the one closing price for the most-recent trading day.\n"
   ]
  },
  {
   "cell_type": "code",
   "execution_count": 15,
   "metadata": {},
   "outputs": [],
   "source": [
    "# Set the tickers for both the bond and stock portion of the portfolio\n",
    "tickers = [\"AGG\", \"SPY\"]\n",
    "\n",
    "# Set timeframe to 1D \n",
    "timeframe = \"1Day\"\n",
    "\n",
    "# Format current date as ISO format\n",
    "# Set both the start and end date at the date of your prior weekday \n",
    "# This will give you the closing price of the previous trading day\n",
    "# Alternatively you can use a start and end date of 2020-08-07\n",
    "start_date = pd.Timestamp(\"2022-03-24\", tz=\"America/New_York\").isoformat()\n",
    "end_date = pd.Timestamp(\"2022-03-24\", tz=\"America/New_York\").isoformat()\n"
   ]
  },
  {
   "cell_type": "markdown",
   "metadata": {},
   "source": [
    "#### Step 4: Get the current closing prices for `SPY` and `AGG` by using the Alpaca `get_barset` function. Format the response as a Pandas DataFrame by including the `df` property at the end of the `get_barset` function."
   ]
  },
  {
   "cell_type": "code",
   "execution_count": 16,
   "metadata": {},
   "outputs": [
    {
     "data": {
      "text/html": [
       "<div>\n",
       "<style scoped>\n",
       "    .dataframe tbody tr th:only-of-type {\n",
       "        vertical-align: middle;\n",
       "    }\n",
       "\n",
       "    .dataframe tbody tr th {\n",
       "        vertical-align: top;\n",
       "    }\n",
       "\n",
       "    .dataframe thead th {\n",
       "        text-align: right;\n",
       "    }\n",
       "</style>\n",
       "<table border=\"1\" class=\"dataframe\">\n",
       "  <thead>\n",
       "    <tr style=\"text-align: right;\">\n",
       "      <th></th>\n",
       "      <th>open</th>\n",
       "      <th>high</th>\n",
       "      <th>low</th>\n",
       "      <th>close</th>\n",
       "      <th>volume</th>\n",
       "      <th>trade_count</th>\n",
       "      <th>vwap</th>\n",
       "      <th>symbol</th>\n",
       "    </tr>\n",
       "    <tr>\n",
       "      <th>timestamp</th>\n",
       "      <th></th>\n",
       "      <th></th>\n",
       "      <th></th>\n",
       "      <th></th>\n",
       "      <th></th>\n",
       "      <th></th>\n",
       "      <th></th>\n",
       "      <th></th>\n",
       "    </tr>\n",
       "  </thead>\n",
       "  <tbody>\n",
       "    <tr>\n",
       "      <th>2022-03-24 04:00:00+00:00</th>\n",
       "      <td>106.72</td>\n",
       "      <td>107.035</td>\n",
       "      <td>106.65</td>\n",
       "      <td>106.95</td>\n",
       "      <td>7378690</td>\n",
       "      <td>23320</td>\n",
       "      <td>106.879605</td>\n",
       "      <td>AGG</td>\n",
       "    </tr>\n",
       "    <tr>\n",
       "      <th>2022-03-24 04:00:00+00:00</th>\n",
       "      <td>445.82</td>\n",
       "      <td>450.500</td>\n",
       "      <td>444.76</td>\n",
       "      <td>450.48</td>\n",
       "      <td>61411569</td>\n",
       "      <td>526865</td>\n",
       "      <td>447.609014</td>\n",
       "      <td>SPY</td>\n",
       "    </tr>\n",
       "  </tbody>\n",
       "</table>\n",
       "</div>"
      ],
      "text/plain": [
       "                             open     high     low   close    volume  \\\n",
       "timestamp                                                              \n",
       "2022-03-24 04:00:00+00:00  106.72  107.035  106.65  106.95   7378690   \n",
       "2022-03-24 04:00:00+00:00  445.82  450.500  444.76  450.48  61411569   \n",
       "\n",
       "                           trade_count        vwap symbol  \n",
       "timestamp                                                  \n",
       "2022-03-24 04:00:00+00:00        23320  106.879605    AGG  \n",
       "2022-03-24 04:00:00+00:00       526865  447.609014    SPY  "
      ]
     },
     "execution_count": 16,
     "metadata": {},
     "output_type": "execute_result"
    }
   ],
   "source": [
    "# Use the Alpaca get_barset function to get current closing prices the portfolio\n",
    "# Be sure to set the `df` property after the function to format the response object as a DataFrame\n",
    "closing_prices = alpaca.get_bars(\n",
    "    tickers,\n",
    "    timeframe=timeframe,\n",
    "    start=start_date,\n",
    "    end=end_date).df\n",
    "\n",
    "# Review the first 5 rows of the Alpaca DataFrame\n",
    "closing_prices\n"
   ]
  },
  {
   "cell_type": "markdown",
   "metadata": {},
   "source": [
    "#### Step 5: Navigating the Alpaca response DataFrame, select the `SPY` and `AGG` closing prices, and store them as variables."
   ]
  },
  {
   "cell_type": "code",
   "execution_count": 17,
   "metadata": {},
   "outputs": [
    {
     "data": {
      "text/plain": [
       "106.95"
      ]
     },
     "execution_count": 17,
     "metadata": {},
     "output_type": "execute_result"
    }
   ],
   "source": [
    "# Access the closing price for AGG from the Alpaca DataFrame\n",
    "# Converting the value to a floating point number\n",
    "agg_close_price = closing_prices.iloc[0, 3]\n",
    "\n",
    "# Print the AGG closing price\n",
    "agg_close_price\n"
   ]
  },
  {
   "cell_type": "code",
   "execution_count": 18,
   "metadata": {},
   "outputs": [
    {
     "data": {
      "text/plain": [
       "450.48"
      ]
     },
     "execution_count": 18,
     "metadata": {},
     "output_type": "execute_result"
    }
   ],
   "source": [
    "# Access the closing price for SPY from the Alpaca DataFrame\n",
    "# Converting the value to a floating point number\n",
    "spy_close_price = closing_prices.iloc[1, 3]\n",
    "\n",
    "# Print the SPY closing price\n",
    "spy_close_price\n"
   ]
  },
  {
   "cell_type": "markdown",
   "metadata": {},
   "source": [
    "#### Step 6: Calculate the value, in US dollars, of the current amount of shares in each of the stock and bond portions of the portfolio, and print the results."
   ]
  },
  {
   "cell_type": "code",
   "execution_count": 19,
   "metadata": {},
   "outputs": [
    {
     "data": {
      "text/plain": [
       "21390.0"
      ]
     },
     "execution_count": 19,
     "metadata": {},
     "output_type": "execute_result"
    }
   ],
   "source": [
    "# Calculate the current value of the bond portion of the portfolio\n",
    "agg_value = agg_shares * agg_close_price\n",
    "\n",
    "# Print the current value of the bond portfolio\n",
    "agg_value\n"
   ]
  },
  {
   "cell_type": "code",
   "execution_count": 20,
   "metadata": {},
   "outputs": [
    {
     "data": {
      "text/plain": [
       "49552.8"
      ]
     },
     "execution_count": 20,
     "metadata": {},
     "output_type": "execute_result"
    }
   ],
   "source": [
    "# Calculate the current value of the stock portion of the portfolio\n",
    "spy_value = spy_shares * spy_close_price\n",
    "\n",
    "# Print the current value of the stock portfolio\n",
    "spy_value\n"
   ]
  },
  {
   "cell_type": "code",
   "execution_count": 21,
   "metadata": {},
   "outputs": [
    {
     "data": {
      "text/plain": [
       "70942.8"
      ]
     },
     "execution_count": 21,
     "metadata": {},
     "output_type": "execute_result"
    }
   ],
   "source": [
    "# Calculate the total value of the stock and bond portion of the portfolio\n",
    "total_stocks_bonds = agg_value + spy_value\n",
    "\n",
    "# Print the current balance of the stock and bond portion of the portfolio\n",
    "total_stocks_bonds\n"
   ]
  },
  {
   "cell_type": "code",
   "execution_count": 22,
   "metadata": {},
   "outputs": [
    {
     "data": {
      "text/plain": [
       "145945.72"
      ]
     },
     "execution_count": 22,
     "metadata": {},
     "output_type": "execute_result"
    }
   ],
   "source": [
    "# Calculate the total value of the member's entire savings portfolio\n",
    "# Add the value of the cryptocurrency walled to the value of the total stocks and bonds\n",
    "total_portfolio = total_crypto_wallet + total_stocks_bonds\n",
    "\n",
    "# Print current cryptocurrency wallet balance\n",
    "round(total_portfolio, 2)\n"
   ]
  },
  {
   "cell_type": "markdown",
   "metadata": {},
   "source": [
    "### Evaluate the Emergency Fund\n",
    "\n",
    "In this section, you’ll use the valuations for the cryptocurrency wallet and for the stock and bond portions of the portfolio to determine if the credit union member has enough savings to build an emergency fund into their financial plan. To do this, complete the following steps:\n",
    "\n",
    "1. Create a Python list named `savings_data` that has two elements. The first element contains the total value of the cryptocurrency wallet. The second element contains the total value of the stock and bond portions of the portfolio.\n",
    "\n",
    "2. Use the `savings_data` list to create a Pandas DataFrame named `savings_df`, and then display this DataFrame. The function to create the DataFrame should take the following three parameters:\n",
    "\n",
    "    - `savings_data`: Use the list that you just created.\n",
    "\n",
    "    - `columns`: Set this parameter equal to a Python list with a single value called `amount`.\n",
    "\n",
    "    - `index`: Set this parameter equal to a Python list with the values of `crypto` and `stock/bond`.\n",
    "\n",
    "3. Use the `savings_df` DataFrame to plot a pie chart that visualizes the composition of the member’s portfolio. The y-axis of the pie chart uses `amount`. Be sure to add a title.\n",
    "\n",
    "4. Using Python, determine if the current portfolio has enough to create an emergency fund as part of the member’s financial plan. Ideally, an emergency fund should equal to three times the member’s monthly income. To do this, implement the following steps:\n",
    "\n",
    "    1. Create a variable named `emergency_fund_value`, and set it equal to three times the value of the member’s `monthly_income` of $12000. (You set this earlier in Part 1).\n",
    "\n",
    "    2. Create a series of three if statements to determine if the member’s total portfolio is large enough to fund the emergency portfolio:\n",
    "\n",
    "        1. If the total portfolio value is greater than the emergency fund value, display a message congratulating the member for having enough money in this fund.\n",
    "\n",
    "        2. Else if the total portfolio value is equal to the emergency fund value, display a message congratulating the member on reaching this important financial goal.\n",
    "\n",
    "        3. Else the total portfolio is less than the emergency fund value, so display a message showing how many dollars away the member is from reaching the goal. (Subtract the total portfolio value from the emergency fund value.)\n"
   ]
  },
  {
   "cell_type": "markdown",
   "metadata": {},
   "source": [
    "#### Step 1: Create a Python list named `savings_data` that has two elements. The first element contains the total value of the cryptocurrency wallet. The second element contains the total value of the stock and bond portions of the portfolio."
   ]
  },
  {
   "cell_type": "code",
   "execution_count": 23,
   "metadata": {},
   "outputs": [
    {
     "data": {
      "text/plain": [
       "[75002.925, 70942.8]"
      ]
     },
     "execution_count": 23,
     "metadata": {},
     "output_type": "execute_result"
    }
   ],
   "source": [
    "# Consolidate financial assets data into a Python list\n",
    "savings_data = [total_crypto_wallet, total_stocks_bonds]\n",
    "\n",
    "# Review the Python list savings_data\n",
    "savings_data\n",
    "    "
   ]
  },
  {
   "cell_type": "markdown",
   "metadata": {},
   "source": [
    "#### Step 2: Use the `savings_data` list to create a Pandas DataFrame named `savings_df`, and then display this DataFrame. The function to create the DataFrame should take the following three parameters:\n",
    "\n",
    "- `savings_data`: Use the list that you just created.\n",
    "\n",
    "- `columns`: Set this parameter equal to a Python list with a single value called `amount`.\n",
    "\n",
    "- `index`: Set this parameter equal to a Python list with the values of `crypto` and `stock/bond`.\n"
   ]
  },
  {
   "cell_type": "code",
   "execution_count": 24,
   "metadata": {},
   "outputs": [
    {
     "data": {
      "text/html": [
       "<div>\n",
       "<style scoped>\n",
       "    .dataframe tbody tr th:only-of-type {\n",
       "        vertical-align: middle;\n",
       "    }\n",
       "\n",
       "    .dataframe tbody tr th {\n",
       "        vertical-align: top;\n",
       "    }\n",
       "\n",
       "    .dataframe thead th {\n",
       "        text-align: right;\n",
       "    }\n",
       "</style>\n",
       "<table border=\"1\" class=\"dataframe\">\n",
       "  <thead>\n",
       "    <tr style=\"text-align: right;\">\n",
       "      <th></th>\n",
       "      <th>amount</th>\n",
       "    </tr>\n",
       "  </thead>\n",
       "  <tbody>\n",
       "    <tr>\n",
       "      <th>crypto</th>\n",
       "      <td>75002.925</td>\n",
       "    </tr>\n",
       "    <tr>\n",
       "      <th>stock/bond</th>\n",
       "      <td>70942.800</td>\n",
       "    </tr>\n",
       "  </tbody>\n",
       "</table>\n",
       "</div>"
      ],
      "text/plain": [
       "               amount\n",
       "crypto      75002.925\n",
       "stock/bond  70942.800"
      ]
     },
     "execution_count": 24,
     "metadata": {},
     "output_type": "execute_result"
    }
   ],
   "source": [
    "# Create a Pandas DataFrame called savings_df \n",
    "savings_df = pd.DataFrame(savings_data, columns = ['amount'], index = ['crypto', 'stock/bond'])\n",
    "\n",
    "# Display the savings_df DataFrame\n",
    "savings_df\n"
   ]
  },
  {
   "cell_type": "markdown",
   "metadata": {},
   "source": [
    "#### Step 3: Use the `savings_df` DataFrame to plot a pie chart that visualizes the composition of the member’s portfolio. The y-axis of the pie chart uses `amount`. Be sure to add a title."
   ]
  },
  {
   "cell_type": "code",
   "execution_count": 25,
   "metadata": {},
   "outputs": [
    {
     "data": {
      "text/plain": [
       "<AxesSubplot:title={'center':'Compositon of Personal Savings'}, ylabel='amount'>"
      ]
     },
     "execution_count": 25,
     "metadata": {},
     "output_type": "execute_result"
    },
    {
     "data": {
      "image/png": "[encoded data removed]",
      "text/plain": [
       "<Figure size 432x288 with 1 Axes>"
      ]
     },
     "metadata": {},
     "output_type": "display_data"
    }
   ],
   "source": [
    "# Plot the total value of the member's portfolio (crypto and stock/bond) in a pie chart\n",
    "savings_df.plot.pie(y='amount', title='Compositon of Personal Savings')\n"
   ]
  },
  {
   "cell_type": "markdown",
   "metadata": {},
   "source": [
    "#### Step 4: Using Python, determine if the current portfolio has enough to create an emergency fund as part of the member’s financial plan. Ideally, an emergency fund should equal to three times the member’s monthly income. To do this, implement the following steps:\n",
    "\n",
    "Step 1. Create a variable named `emergency_fund_value`, and set it equal to three times the value of the member’s `monthly_income` of 12000. (You set this earlier in Part 1).\n",
    "\n",
    "Step 2. Create a series of three if statements to determine if the member’s total portfolio is large enough to fund the emergency portfolio:\n",
    "\n",
    "* If the total portfolio value is greater than the emergency fund value, display a message congratulating the member for having enough money in this fund.\n",
    "\n",
    "* Else if the total portfolio value is equal to the emergency fund value, display a message congratulating the member on reaching this important financial goal.\n",
    "\n",
    "* Else the total portfolio is less than the emergency fund value, so display a message showing how many dollars away the member is from reaching the goal. (Subtract the total portfolio value from the emergency fund value.)\n"
   ]
  },
  {
   "cell_type": "markdown",
   "metadata": {},
   "source": [
    "##### Step 4-1: Create a variable named `emergency_fund_value`, and set it equal to three times the value of the member’s `monthly_income` of 12000. (You set this earlier in Part 1)."
   ]
  },
  {
   "cell_type": "code",
   "execution_count": 26,
   "metadata": {},
   "outputs": [],
   "source": [
    "# Create a variable named emergency_fund_value\n",
    "emergency_fund_value = monthly_income * 3\n"
   ]
  },
  {
   "cell_type": "markdown",
   "metadata": {},
   "source": [
    "##### Step 4-2: Create a series of three if statements to determine if the member’s total portfolio is large enough to fund the emergency portfolio:\n",
    "\n",
    "* If the total portfolio value is greater than the emergency fund value, display a message congratulating the member for having enough money in this fund.\n",
    "\n",
    "* Else if the total portfolio value is equal to the emergency fund value, display a message congratulating the member on reaching this important financial goal.\n",
    "\n",
    "* Else the total portfolio is less than the emergency fund value, so display a message showing how many dollars away the member is from reaching the goal. (Subtract the total portfolio value from the emergency fund value.)"
   ]
  },
  {
   "cell_type": "code",
   "execution_count": 27,
   "metadata": {},
   "outputs": [
    {
     "name": "stdout",
     "output_type": "stream",
     "text": [
      "Congratulations! You have enough savings.\n"
     ]
    }
   ],
   "source": [
    "# Evaluate the possibility of creating an emergency fund with 3 conditions:\n",
    "# YOUR CODE HERE\n",
    "if total_portfolio > emergency_fund_value:\n",
    "    print(\"Congratulations! You have enough savings.\")\n",
    "elif total_portfolio == emergency_fund_value:\n",
    "    print(\"Congratulations on reaching this important milestone\")\n",
    "else: print(f\"You're missing ${emergency_fund_value - total_portfolio} to reach your goal.\")"
   ]
  },
  {
   "cell_type": "markdown",
   "metadata": {},
   "source": [
    "## Part 2: Create a Financial Planner for Retirement"
   ]
  },
  {
   "cell_type": "markdown",
   "metadata": {},
   "source": [
    "### Create the Monte Carlo Simulation\n",
    "\n",
    "In this section, you’ll use the MCForecastTools library to create a Monte Carlo simulation for the member’s savings portfolio. To do this, complete the following steps:\n",
    "\n",
    "1. Make an API call via the Alpaca SDK to get 3 years of historical closing prices for a traditional 60/40 portfolio split: 60% stocks (SPY) and 40% bonds (AGG).\n",
    "\n",
    "2. Run a Monte Carlo simulation of 500 samples and 30 years for the 60/40 portfolio, and then plot the results.The following image shows the overlay line plot resulting from a simulation with these characteristics. However, because a random number generator is used to run each live Monte Carlo simulation, your image will differ slightly from this exact image:\n",
    "\n",
    "![A screenshot depicts the resulting plot.](Images/5-4-monte-carlo-line-plot.png)\n",
    "\n",
    "3. Plot the probability distribution of the Monte Carlo simulation. Plot the probability distribution of the Monte Carlo simulation. The following image shows the histogram plot resulting from a simulation with these characteristics. However, because a random number generator is used to run each live Monte Carlo simulation, your image will differ slightly from this exact image:\n",
    "\n",
    "![A screenshot depicts the histogram plot.](Images/5-4-monte-carlo-histogram.png)\n",
    "\n",
    "4. Generate the summary statistics for the Monte Carlo simulation.\n",
    "\n"
   ]
  },
  {
   "cell_type": "markdown",
   "metadata": {},
   "source": [
    "#### Step 1: Make an API call via the Alpaca SDK to get 3 years of historical closing prices for a traditional 60/40 portfolio split: 60% stocks (SPY) and 40% bonds (AGG)."
   ]
  },
  {
   "cell_type": "code",
   "execution_count": 28,
   "metadata": {},
   "outputs": [],
   "source": [
    "# Set start and end dates of 3 years back from your current date\n",
    "# Alternatively, you can use an end date of 2020-08-07 and work 3 years back from that date \n",
    "start_date = pd.Timestamp(\"2019-03-24\", tz = \"America/New_York\").isoformat()\n",
    "end_date = pd.Timestamp(\"2022-03-24\", tz = \"America/New_York\").isoformat()\n",
    "# Set number of rows to 1000 to retrieve the maximum amount of rows\n",
    "limit_rows=1000"
   ]
  },
  {
   "cell_type": "code",
   "execution_count": 29,
   "metadata": {},
   "outputs": [
    {
     "data": {
      "text/html": [
       "<div>\n",
       "<style scoped>\n",
       "    .dataframe tbody tr th:only-of-type {\n",
       "        vertical-align: middle;\n",
       "    }\n",
       "\n",
       "    .dataframe tbody tr th {\n",
       "        vertical-align: top;\n",
       "    }\n",
       "\n",
       "    .dataframe thead tr th {\n",
       "        text-align: left;\n",
       "    }\n",
       "\n",
       "    .dataframe thead tr:last-of-type th {\n",
       "        text-align: right;\n",
       "    }\n",
       "</style>\n",
       "<table border=\"1\" class=\"dataframe\">\n",
       "  <thead>\n",
       "    <tr>\n",
       "      <th></th>\n",
       "      <th colspan=\"7\" halign=\"left\">SPY</th>\n",
       "      <th colspan=\"7\" halign=\"left\">AGG</th>\n",
       "    </tr>\n",
       "    <tr>\n",
       "      <th></th>\n",
       "      <th>open</th>\n",
       "      <th>high</th>\n",
       "      <th>low</th>\n",
       "      <th>close</th>\n",
       "      <th>volume</th>\n",
       "      <th>trade_count</th>\n",
       "      <th>vwap</th>\n",
       "      <th>open</th>\n",
       "      <th>high</th>\n",
       "      <th>low</th>\n",
       "      <th>close</th>\n",
       "      <th>volume</th>\n",
       "      <th>trade_count</th>\n",
       "      <th>vwap</th>\n",
       "    </tr>\n",
       "    <tr>\n",
       "      <th>timestamp</th>\n",
       "      <th></th>\n",
       "      <th></th>\n",
       "      <th></th>\n",
       "      <th></th>\n",
       "      <th></th>\n",
       "      <th></th>\n",
       "      <th></th>\n",
       "      <th></th>\n",
       "      <th></th>\n",
       "      <th></th>\n",
       "      <th></th>\n",
       "      <th></th>\n",
       "      <th></th>\n",
       "      <th></th>\n",
       "    </tr>\n",
       "  </thead>\n",
       "  <tbody>\n",
       "    <tr>\n",
       "      <th>2019-03-25 04:00:00+00:00</th>\n",
       "      <td>278.89</td>\n",
       "      <td>280.1853</td>\n",
       "      <td>277.64</td>\n",
       "      <td>279.04</td>\n",
       "      <td>86084313</td>\n",
       "      <td>401554</td>\n",
       "      <td>278.894788</td>\n",
       "      <td>108.63</td>\n",
       "      <td>108.989</td>\n",
       "      <td>108.6000</td>\n",
       "      <td>108.82</td>\n",
       "      <td>4971392</td>\n",
       "      <td>14024</td>\n",
       "      <td>108.811600</td>\n",
       "    </tr>\n",
       "    <tr>\n",
       "      <th>2019-03-26 04:00:00+00:00</th>\n",
       "      <td>280.97</td>\n",
       "      <td>282.1800</td>\n",
       "      <td>279.56</td>\n",
       "      <td>281.12</td>\n",
       "      <td>68192367</td>\n",
       "      <td>316322</td>\n",
       "      <td>280.736917</td>\n",
       "      <td>108.76</td>\n",
       "      <td>108.930</td>\n",
       "      <td>108.7100</td>\n",
       "      <td>108.84</td>\n",
       "      <td>3120549</td>\n",
       "      <td>12914</td>\n",
       "      <td>108.822594</td>\n",
       "    </tr>\n",
       "    <tr>\n",
       "      <th>2019-03-27 04:00:00+00:00</th>\n",
       "      <td>281.13</td>\n",
       "      <td>281.7600</td>\n",
       "      <td>277.93</td>\n",
       "      <td>279.65</td>\n",
       "      <td>72224722</td>\n",
       "      <td>390634</td>\n",
       "      <td>279.780992</td>\n",
       "      <td>109.00</td>\n",
       "      <td>109.180</td>\n",
       "      <td>108.9900</td>\n",
       "      <td>109.07</td>\n",
       "      <td>3719699</td>\n",
       "      <td>11931</td>\n",
       "      <td>109.073313</td>\n",
       "    </tr>\n",
       "    <tr>\n",
       "      <th>2019-03-28 04:00:00+00:00</th>\n",
       "      <td>280.36</td>\n",
       "      <td>281.2100</td>\n",
       "      <td>279.07</td>\n",
       "      <td>280.71</td>\n",
       "      <td>56284545</td>\n",
       "      <td>301908</td>\n",
       "      <td>280.322880</td>\n",
       "      <td>109.06</td>\n",
       "      <td>109.140</td>\n",
       "      <td>108.9600</td>\n",
       "      <td>109.08</td>\n",
       "      <td>6070991</td>\n",
       "      <td>10731</td>\n",
       "      <td>109.072146</td>\n",
       "    </tr>\n",
       "    <tr>\n",
       "      <th>2019-03-29 04:00:00+00:00</th>\n",
       "      <td>282.41</td>\n",
       "      <td>282.8400</td>\n",
       "      <td>281.14</td>\n",
       "      <td>282.48</td>\n",
       "      <td>82240806</td>\n",
       "      <td>330846</td>\n",
       "      <td>282.129816</td>\n",
       "      <td>108.85</td>\n",
       "      <td>109.070</td>\n",
       "      <td>108.8300</td>\n",
       "      <td>109.07</td>\n",
       "      <td>5989397</td>\n",
       "      <td>20842</td>\n",
       "      <td>109.021800</td>\n",
       "    </tr>\n",
       "    <tr>\n",
       "      <th>...</th>\n",
       "      <td>...</td>\n",
       "      <td>...</td>\n",
       "      <td>...</td>\n",
       "      <td>...</td>\n",
       "      <td>...</td>\n",
       "      <td>...</td>\n",
       "      <td>...</td>\n",
       "      <td>...</td>\n",
       "      <td>...</td>\n",
       "      <td>...</td>\n",
       "      <td>...</td>\n",
       "      <td>...</td>\n",
       "      <td>...</td>\n",
       "      <td>...</td>\n",
       "    </tr>\n",
       "    <tr>\n",
       "      <th>2022-03-18 04:00:00+00:00</th>\n",
       "      <td>437.81</td>\n",
       "      <td>444.8600</td>\n",
       "      <td>437.22</td>\n",
       "      <td>444.31</td>\n",
       "      <td>102327793</td>\n",
       "      <td>790235</td>\n",
       "      <td>441.458916</td>\n",
       "      <td>107.93</td>\n",
       "      <td>108.140</td>\n",
       "      <td>107.9203</td>\n",
       "      <td>108.10</td>\n",
       "      <td>7800354</td>\n",
       "      <td>23567</td>\n",
       "      <td>108.060585</td>\n",
       "    </tr>\n",
       "    <tr>\n",
       "      <th>2022-03-21 04:00:00+00:00</th>\n",
       "      <td>444.45</td>\n",
       "      <td>446.4600</td>\n",
       "      <td>440.68</td>\n",
       "      <td>444.30</td>\n",
       "      <td>85377983</td>\n",
       "      <td>912432</td>\n",
       "      <td>443.796432</td>\n",
       "      <td>107.58</td>\n",
       "      <td>107.649</td>\n",
       "      <td>106.9841</td>\n",
       "      <td>107.04</td>\n",
       "      <td>7583668</td>\n",
       "      <td>27316</td>\n",
       "      <td>107.310151</td>\n",
       "    </tr>\n",
       "    <tr>\n",
       "      <th>2022-03-22 04:00:00+00:00</th>\n",
       "      <td>445.99</td>\n",
       "      <td>450.5800</td>\n",
       "      <td>445.86</td>\n",
       "      <td>449.59</td>\n",
       "      <td>73674202</td>\n",
       "      <td>623610</td>\n",
       "      <td>448.558595</td>\n",
       "      <td>106.74</td>\n",
       "      <td>106.880</td>\n",
       "      <td>106.6100</td>\n",
       "      <td>106.75</td>\n",
       "      <td>16048681</td>\n",
       "      <td>51796</td>\n",
       "      <td>106.746967</td>\n",
       "    </tr>\n",
       "    <tr>\n",
       "      <th>2022-03-23 04:00:00+00:00</th>\n",
       "      <td>446.90</td>\n",
       "      <td>448.4900</td>\n",
       "      <td>443.71</td>\n",
       "      <td>443.80</td>\n",
       "      <td>77982935</td>\n",
       "      <td>627281</td>\n",
       "      <td>446.058683</td>\n",
       "      <td>106.96</td>\n",
       "      <td>107.210</td>\n",
       "      <td>106.7105</td>\n",
       "      <td>107.19</td>\n",
       "      <td>8567200</td>\n",
       "      <td>27348</td>\n",
       "      <td>106.991875</td>\n",
       "    </tr>\n",
       "    <tr>\n",
       "      <th>2022-03-24 04:00:00+00:00</th>\n",
       "      <td>445.82</td>\n",
       "      <td>450.5000</td>\n",
       "      <td>444.76</td>\n",
       "      <td>450.48</td>\n",
       "      <td>61411569</td>\n",
       "      <td>526865</td>\n",
       "      <td>447.609014</td>\n",
       "      <td>106.72</td>\n",
       "      <td>107.035</td>\n",
       "      <td>106.6500</td>\n",
       "      <td>106.95</td>\n",
       "      <td>7378690</td>\n",
       "      <td>23320</td>\n",
       "      <td>106.879605</td>\n",
       "    </tr>\n",
       "  </tbody>\n",
       "</table>\n",
       "<p>758 rows × 14 columns</p>\n",
       "</div>"
      ],
      "text/plain": [
       "                              SPY                                       \\\n",
       "                             open      high     low   close     volume   \n",
       "timestamp                                                                \n",
       "2019-03-25 04:00:00+00:00  278.89  280.1853  277.64  279.04   86084313   \n",
       "2019-03-26 04:00:00+00:00  280.97  282.1800  279.56  281.12   68192367   \n",
       "2019-03-27 04:00:00+00:00  281.13  281.7600  277.93  279.65   72224722   \n",
       "2019-03-28 04:00:00+00:00  280.36  281.2100  279.07  280.71   56284545   \n",
       "2019-03-29 04:00:00+00:00  282.41  282.8400  281.14  282.48   82240806   \n",
       "...                           ...       ...     ...     ...        ...   \n",
       "2022-03-18 04:00:00+00:00  437.81  444.8600  437.22  444.31  102327793   \n",
       "2022-03-21 04:00:00+00:00  444.45  446.4600  440.68  444.30   85377983   \n",
       "2022-03-22 04:00:00+00:00  445.99  450.5800  445.86  449.59   73674202   \n",
       "2022-03-23 04:00:00+00:00  446.90  448.4900  443.71  443.80   77982935   \n",
       "2022-03-24 04:00:00+00:00  445.82  450.5000  444.76  450.48   61411569   \n",
       "\n",
       "                                                      AGG                     \\\n",
       "                          trade_count        vwap    open     high       low   \n",
       "timestamp                                                                      \n",
       "2019-03-25 04:00:00+00:00      401554  278.894788  108.63  108.989  108.6000   \n",
       "2019-03-26 04:00:00+00:00      316322  280.736917  108.76  108.930  108.7100   \n",
       "2019-03-27 04:00:00+00:00      390634  279.780992  109.00  109.180  108.9900   \n",
       "2019-03-28 04:00:00+00:00      301908  280.322880  109.06  109.140  108.9600   \n",
       "2019-03-29 04:00:00+00:00      330846  282.129816  108.85  109.070  108.8300   \n",
       "...                               ...         ...     ...      ...       ...   \n",
       "2022-03-18 04:00:00+00:00      790235  441.458916  107.93  108.140  107.9203   \n",
       "2022-03-21 04:00:00+00:00      912432  443.796432  107.58  107.649  106.9841   \n",
       "2022-03-22 04:00:00+00:00      623610  448.558595  106.74  106.880  106.6100   \n",
       "2022-03-23 04:00:00+00:00      627281  446.058683  106.96  107.210  106.7105   \n",
       "2022-03-24 04:00:00+00:00      526865  447.609014  106.72  107.035  106.6500   \n",
       "\n",
       "                                                                     \n",
       "                            close    volume trade_count        vwap  \n",
       "timestamp                                                            \n",
       "2019-03-25 04:00:00+00:00  108.82   4971392       14024  108.811600  \n",
       "2019-03-26 04:00:00+00:00  108.84   3120549       12914  108.822594  \n",
       "2019-03-27 04:00:00+00:00  109.07   3719699       11931  109.073313  \n",
       "2019-03-28 04:00:00+00:00  109.08   6070991       10731  109.072146  \n",
       "2019-03-29 04:00:00+00:00  109.07   5989397       20842  109.021800  \n",
       "...                           ...       ...         ...         ...  \n",
       "2022-03-18 04:00:00+00:00  108.10   7800354       23567  108.060585  \n",
       "2022-03-21 04:00:00+00:00  107.04   7583668       27316  107.310151  \n",
       "2022-03-22 04:00:00+00:00  106.75  16048681       51796  106.746967  \n",
       "2022-03-23 04:00:00+00:00  107.19   8567200       27348  106.991875  \n",
       "2022-03-24 04:00:00+00:00  106.95   7378690       23320  106.879605  \n",
       "\n",
       "[758 rows x 14 columns]"
      ]
     },
     "execution_count": 29,
     "metadata": {},
     "output_type": "execute_result"
    }
   ],
   "source": [
    "# Use the Alpaca get_barset function to make the API call to get the 3 years worth of pricing data\n",
    "# The tickers and timeframe parameters should have been set in Part 1 of this activity \n",
    "# The start and end dates should be updated with the information set above\n",
    "# Remember to add the df property to the end of the call so the response is returned as a DataFrame\n",
    "spy_df = alpaca.get_bars(\n",
    "    \"SPY\",\n",
    "    timeframe,\n",
    "    start=start_date,\n",
    "    end=end_date,\n",
    "    limit=limit_rows\n",
    ").df\n",
    "\n",
    "agg_df = alpaca.get_bars(\n",
    "    \"AGG\",\n",
    "    timeframe,\n",
    "    start=start_date,\n",
    "    end=end_date,\n",
    "    limit=limit_rows\n",
    ").df\n",
    "\n",
    "portfolio_prices_df = pd.concat([spy_df, agg_df], axis=1, keys=[\"SPY\", \"AGG\"])\n",
    "\n",
    "# Display both the first and last five rows of the DataFrame\n",
    "portfolio_prices_df\n"
   ]
  },
  {
   "cell_type": "markdown",
   "metadata": {},
   "source": [
    "#### Step 2: Run a Monte Carlo simulation of 500 samples and 30 years for the 60/40 portfolio, and then plot the results."
   ]
  },
  {
   "cell_type": "code",
   "execution_count": 30,
   "metadata": {},
   "outputs": [
    {
     "data": {
      "text/html": [
       "<div>\n",
       "<style scoped>\n",
       "    .dataframe tbody tr th:only-of-type {\n",
       "        vertical-align: middle;\n",
       "    }\n",
       "\n",
       "    .dataframe tbody tr th {\n",
       "        vertical-align: top;\n",
       "    }\n",
       "\n",
       "    .dataframe thead tr th {\n",
       "        text-align: left;\n",
       "    }\n",
       "\n",
       "    .dataframe thead tr:last-of-type th {\n",
       "        text-align: right;\n",
       "    }\n",
       "</style>\n",
       "<table border=\"1\" class=\"dataframe\">\n",
       "  <thead>\n",
       "    <tr>\n",
       "      <th></th>\n",
       "      <th colspan=\"8\" halign=\"left\">SPY</th>\n",
       "      <th colspan=\"8\" halign=\"left\">AGG</th>\n",
       "    </tr>\n",
       "    <tr>\n",
       "      <th></th>\n",
       "      <th>open</th>\n",
       "      <th>high</th>\n",
       "      <th>low</th>\n",
       "      <th>close</th>\n",
       "      <th>volume</th>\n",
       "      <th>trade_count</th>\n",
       "      <th>vwap</th>\n",
       "      <th>daily_return</th>\n",
       "      <th>open</th>\n",
       "      <th>high</th>\n",
       "      <th>low</th>\n",
       "      <th>close</th>\n",
       "      <th>volume</th>\n",
       "      <th>trade_count</th>\n",
       "      <th>vwap</th>\n",
       "      <th>daily_return</th>\n",
       "    </tr>\n",
       "    <tr>\n",
       "      <th>timestamp</th>\n",
       "      <th></th>\n",
       "      <th></th>\n",
       "      <th></th>\n",
       "      <th></th>\n",
       "      <th></th>\n",
       "      <th></th>\n",
       "      <th></th>\n",
       "      <th></th>\n",
       "      <th></th>\n",
       "      <th></th>\n",
       "      <th></th>\n",
       "      <th></th>\n",
       "      <th></th>\n",
       "      <th></th>\n",
       "      <th></th>\n",
       "      <th></th>\n",
       "    </tr>\n",
       "  </thead>\n",
       "  <tbody>\n",
       "    <tr>\n",
       "      <th>2019-03-25 04:00:00+00:00</th>\n",
       "      <td>278.89</td>\n",
       "      <td>280.1853</td>\n",
       "      <td>277.64</td>\n",
       "      <td>279.04</td>\n",
       "      <td>86084313</td>\n",
       "      <td>401554</td>\n",
       "      <td>278.894788</td>\n",
       "      <td>NaN</td>\n",
       "      <td>108.63</td>\n",
       "      <td>108.989</td>\n",
       "      <td>108.60</td>\n",
       "      <td>108.82</td>\n",
       "      <td>4971392</td>\n",
       "      <td>14024</td>\n",
       "      <td>108.811600</td>\n",
       "      <td>NaN</td>\n",
       "    </tr>\n",
       "    <tr>\n",
       "      <th>2019-03-26 04:00:00+00:00</th>\n",
       "      <td>280.97</td>\n",
       "      <td>282.1800</td>\n",
       "      <td>279.56</td>\n",
       "      <td>281.12</td>\n",
       "      <td>68192367</td>\n",
       "      <td>316322</td>\n",
       "      <td>280.736917</td>\n",
       "      <td>0.007454</td>\n",
       "      <td>108.76</td>\n",
       "      <td>108.930</td>\n",
       "      <td>108.71</td>\n",
       "      <td>108.84</td>\n",
       "      <td>3120549</td>\n",
       "      <td>12914</td>\n",
       "      <td>108.822594</td>\n",
       "      <td>0.000184</td>\n",
       "    </tr>\n",
       "    <tr>\n",
       "      <th>2019-03-27 04:00:00+00:00</th>\n",
       "      <td>281.13</td>\n",
       "      <td>281.7600</td>\n",
       "      <td>277.93</td>\n",
       "      <td>279.65</td>\n",
       "      <td>72224722</td>\n",
       "      <td>390634</td>\n",
       "      <td>279.780992</td>\n",
       "      <td>-0.005229</td>\n",
       "      <td>109.00</td>\n",
       "      <td>109.180</td>\n",
       "      <td>108.99</td>\n",
       "      <td>109.07</td>\n",
       "      <td>3719699</td>\n",
       "      <td>11931</td>\n",
       "      <td>109.073313</td>\n",
       "      <td>0.002113</td>\n",
       "    </tr>\n",
       "    <tr>\n",
       "      <th>2019-03-28 04:00:00+00:00</th>\n",
       "      <td>280.36</td>\n",
       "      <td>281.2100</td>\n",
       "      <td>279.07</td>\n",
       "      <td>280.71</td>\n",
       "      <td>56284545</td>\n",
       "      <td>301908</td>\n",
       "      <td>280.322880</td>\n",
       "      <td>0.003790</td>\n",
       "      <td>109.06</td>\n",
       "      <td>109.140</td>\n",
       "      <td>108.96</td>\n",
       "      <td>109.08</td>\n",
       "      <td>6070991</td>\n",
       "      <td>10731</td>\n",
       "      <td>109.072146</td>\n",
       "      <td>0.000092</td>\n",
       "    </tr>\n",
       "    <tr>\n",
       "      <th>2019-03-29 04:00:00+00:00</th>\n",
       "      <td>282.41</td>\n",
       "      <td>282.8400</td>\n",
       "      <td>281.14</td>\n",
       "      <td>282.48</td>\n",
       "      <td>82240806</td>\n",
       "      <td>330846</td>\n",
       "      <td>282.129816</td>\n",
       "      <td>0.006305</td>\n",
       "      <td>108.85</td>\n",
       "      <td>109.070</td>\n",
       "      <td>108.83</td>\n",
       "      <td>109.07</td>\n",
       "      <td>5989397</td>\n",
       "      <td>20842</td>\n",
       "      <td>109.021800</td>\n",
       "      <td>-0.000092</td>\n",
       "    </tr>\n",
       "  </tbody>\n",
       "</table>\n",
       "</div>"
      ],
      "text/plain": [
       "                              SPY                                      \\\n",
       "                             open      high     low   close    volume   \n",
       "timestamp                                                               \n",
       "2019-03-25 04:00:00+00:00  278.89  280.1853  277.64  279.04  86084313   \n",
       "2019-03-26 04:00:00+00:00  280.97  282.1800  279.56  281.12  68192367   \n",
       "2019-03-27 04:00:00+00:00  281.13  281.7600  277.93  279.65  72224722   \n",
       "2019-03-28 04:00:00+00:00  280.36  281.2100  279.07  280.71  56284545   \n",
       "2019-03-29 04:00:00+00:00  282.41  282.8400  281.14  282.48  82240806   \n",
       "\n",
       "                                                                   AGG  \\\n",
       "                          trade_count        vwap daily_return    open   \n",
       "timestamp                                                                \n",
       "2019-03-25 04:00:00+00:00      401554  278.894788          NaN  108.63   \n",
       "2019-03-26 04:00:00+00:00      316322  280.736917     0.007454  108.76   \n",
       "2019-03-27 04:00:00+00:00      390634  279.780992    -0.005229  109.00   \n",
       "2019-03-28 04:00:00+00:00      301908  280.322880     0.003790  109.06   \n",
       "2019-03-29 04:00:00+00:00      330846  282.129816     0.006305  108.85   \n",
       "\n",
       "                                                                         \\\n",
       "                              high     low   close   volume trade_count   \n",
       "timestamp                                                                 \n",
       "2019-03-25 04:00:00+00:00  108.989  108.60  108.82  4971392       14024   \n",
       "2019-03-26 04:00:00+00:00  108.930  108.71  108.84  3120549       12914   \n",
       "2019-03-27 04:00:00+00:00  109.180  108.99  109.07  3719699       11931   \n",
       "2019-03-28 04:00:00+00:00  109.140  108.96  109.08  6070991       10731   \n",
       "2019-03-29 04:00:00+00:00  109.070  108.83  109.07  5989397       20842   \n",
       "\n",
       "                                                    \n",
       "                                 vwap daily_return  \n",
       "timestamp                                           \n",
       "2019-03-25 04:00:00+00:00  108.811600          NaN  \n",
       "2019-03-26 04:00:00+00:00  108.822594     0.000184  \n",
       "2019-03-27 04:00:00+00:00  109.073313     0.002113  \n",
       "2019-03-28 04:00:00+00:00  109.072146     0.000092  \n",
       "2019-03-29 04:00:00+00:00  109.021800    -0.000092  "
      ]
     },
     "execution_count": 30,
     "metadata": {},
     "output_type": "execute_result"
    }
   ],
   "source": [
    "# Configure the Monte Carlo simulation to forecast 30 years cumulative returns\n",
    "# The weights should be split 40% to AGG and 60% to SPY.\n",
    "# Run 500 samples.\n",
    "MC_thirty_year = MCSimulation(\n",
    "    portfolio_data= portfolio_prices_df,\n",
    "    weights=[0.60, 0.40],\n",
    "    num_simulation = 100,\n",
    "    num_trading_days = 252 * 30\n",
    ")\n",
    "# Review the simulation input data\n",
    "MC_thirty_year.portfolio_data.head()\n"
   ]
  },
  {
   "cell_type": "code",
   "execution_count": 31,
   "metadata": {},
   "outputs": [
    {
     "name": "stdout",
     "output_type": "stream",
     "text": [
      "Running Monte Carlo simulation number 0.\n",
      "Running Monte Carlo simulation number 10.\n",
      "Running Monte Carlo simulation number 20.\n",
      "Running Monte Carlo simulation number 30.\n",
      "Running Monte Carlo simulation number 40.\n",
      "Running Monte Carlo simulation number 50.\n",
      "Running Monte Carlo simulation number 60.\n",
      "Running Monte Carlo simulation number 70.\n",
      "Running Monte Carlo simulation number 80.\n",
      "Running Monte Carlo simulation number 90.\n"
     ]
    },
    {
     "data": {
      "text/html": [
       "<div>\n",
       "<style scoped>\n",
       "    .dataframe tbody tr th:only-of-type {\n",
       "        vertical-align: middle;\n",
       "    }\n",
       "\n",
       "    .dataframe tbody tr th {\n",
       "        vertical-align: top;\n",
       "    }\n",
       "\n",
       "    .dataframe thead th {\n",
       "        text-align: right;\n",
       "    }\n",
       "</style>\n",
       "<table border=\"1\" class=\"dataframe\">\n",
       "  <thead>\n",
       "    <tr style=\"text-align: right;\">\n",
       "      <th></th>\n",
       "      <th>0</th>\n",
       "      <th>1</th>\n",
       "      <th>2</th>\n",
       "      <th>3</th>\n",
       "      <th>4</th>\n",
       "      <th>5</th>\n",
       "      <th>6</th>\n",
       "      <th>7</th>\n",
       "      <th>8</th>\n",
       "      <th>9</th>\n",
       "      <th>...</th>\n",
       "      <th>90</th>\n",
       "      <th>91</th>\n",
       "      <th>92</th>\n",
       "      <th>93</th>\n",
       "      <th>94</th>\n",
       "      <th>95</th>\n",
       "      <th>96</th>\n",
       "      <th>97</th>\n",
       "      <th>98</th>\n",
       "      <th>99</th>\n",
       "    </tr>\n",
       "  </thead>\n",
       "  <tbody>\n",
       "    <tr>\n",
       "      <th>0</th>\n",
       "      <td>1.000000</td>\n",
       "      <td>1.000000</td>\n",
       "      <td>1.000000</td>\n",
       "      <td>1.000000</td>\n",
       "      <td>1.000000</td>\n",
       "      <td>1.000000</td>\n",
       "      <td>1.000000</td>\n",
       "      <td>1.000000</td>\n",
       "      <td>1.000000</td>\n",
       "      <td>1.000000</td>\n",
       "      <td>...</td>\n",
       "      <td>1.000000</td>\n",
       "      <td>1.000000</td>\n",
       "      <td>1.000000</td>\n",
       "      <td>1.000000</td>\n",
       "      <td>1.000000</td>\n",
       "      <td>1.000000</td>\n",
       "      <td>1.000000</td>\n",
       "      <td>1.000000</td>\n",
       "      <td>1.000000</td>\n",
       "      <td>1.000000</td>\n",
       "    </tr>\n",
       "    <tr>\n",
       "      <th>1</th>\n",
       "      <td>0.997001</td>\n",
       "      <td>1.011847</td>\n",
       "      <td>0.993951</td>\n",
       "      <td>1.012176</td>\n",
       "      <td>0.997408</td>\n",
       "      <td>0.995396</td>\n",
       "      <td>0.994770</td>\n",
       "      <td>1.009081</td>\n",
       "      <td>1.008262</td>\n",
       "      <td>1.018812</td>\n",
       "      <td>...</td>\n",
       "      <td>0.994766</td>\n",
       "      <td>0.987437</td>\n",
       "      <td>1.011855</td>\n",
       "      <td>0.994383</td>\n",
       "      <td>1.007827</td>\n",
       "      <td>1.005374</td>\n",
       "      <td>1.004240</td>\n",
       "      <td>1.018310</td>\n",
       "      <td>1.003457</td>\n",
       "      <td>0.986276</td>\n",
       "    </tr>\n",
       "    <tr>\n",
       "      <th>2</th>\n",
       "      <td>0.996021</td>\n",
       "      <td>1.005222</td>\n",
       "      <td>0.998432</td>\n",
       "      <td>1.003112</td>\n",
       "      <td>1.000915</td>\n",
       "      <td>1.000586</td>\n",
       "      <td>0.991940</td>\n",
       "      <td>1.013795</td>\n",
       "      <td>1.016713</td>\n",
       "      <td>1.001113</td>\n",
       "      <td>...</td>\n",
       "      <td>1.005748</td>\n",
       "      <td>0.982050</td>\n",
       "      <td>1.004503</td>\n",
       "      <td>0.990731</td>\n",
       "      <td>1.017502</td>\n",
       "      <td>1.005280</td>\n",
       "      <td>1.016515</td>\n",
       "      <td>1.025233</td>\n",
       "      <td>0.994442</td>\n",
       "      <td>0.989326</td>\n",
       "    </tr>\n",
       "    <tr>\n",
       "      <th>3</th>\n",
       "      <td>0.993630</td>\n",
       "      <td>1.006134</td>\n",
       "      <td>0.993220</td>\n",
       "      <td>1.005230</td>\n",
       "      <td>0.996139</td>\n",
       "      <td>1.001851</td>\n",
       "      <td>0.989899</td>\n",
       "      <td>1.001195</td>\n",
       "      <td>1.011157</td>\n",
       "      <td>1.009402</td>\n",
       "      <td>...</td>\n",
       "      <td>1.000367</td>\n",
       "      <td>0.983003</td>\n",
       "      <td>1.000898</td>\n",
       "      <td>0.984375</td>\n",
       "      <td>1.005200</td>\n",
       "      <td>1.006607</td>\n",
       "      <td>1.033295</td>\n",
       "      <td>1.031170</td>\n",
       "      <td>0.992898</td>\n",
       "      <td>0.971815</td>\n",
       "    </tr>\n",
       "    <tr>\n",
       "      <th>4</th>\n",
       "      <td>0.981578</td>\n",
       "      <td>1.003831</td>\n",
       "      <td>1.013499</td>\n",
       "      <td>0.992212</td>\n",
       "      <td>0.994050</td>\n",
       "      <td>0.998801</td>\n",
       "      <td>1.012750</td>\n",
       "      <td>1.007555</td>\n",
       "      <td>1.016960</td>\n",
       "      <td>1.011022</td>\n",
       "      <td>...</td>\n",
       "      <td>1.016389</td>\n",
       "      <td>0.989860</td>\n",
       "      <td>1.002600</td>\n",
       "      <td>0.986194</td>\n",
       "      <td>0.999128</td>\n",
       "      <td>0.994383</td>\n",
       "      <td>1.041435</td>\n",
       "      <td>1.035799</td>\n",
       "      <td>0.994423</td>\n",
       "      <td>0.968371</td>\n",
       "    </tr>\n",
       "    <tr>\n",
       "      <th>...</th>\n",
       "      <td>...</td>\n",
       "      <td>...</td>\n",
       "      <td>...</td>\n",
       "      <td>...</td>\n",
       "      <td>...</td>\n",
       "      <td>...</td>\n",
       "      <td>...</td>\n",
       "      <td>...</td>\n",
       "      <td>...</td>\n",
       "      <td>...</td>\n",
       "      <td>...</td>\n",
       "      <td>...</td>\n",
       "      <td>...</td>\n",
       "      <td>...</td>\n",
       "      <td>...</td>\n",
       "      <td>...</td>\n",
       "      <td>...</td>\n",
       "      <td>...</td>\n",
       "      <td>...</td>\n",
       "      <td>...</td>\n",
       "      <td>...</td>\n",
       "    </tr>\n",
       "    <tr>\n",
       "      <th>7556</th>\n",
       "      <td>24.001897</td>\n",
       "      <td>58.277444</td>\n",
       "      <td>38.705372</td>\n",
       "      <td>8.058442</td>\n",
       "      <td>16.591287</td>\n",
       "      <td>8.027894</td>\n",
       "      <td>16.668613</td>\n",
       "      <td>17.981487</td>\n",
       "      <td>79.220599</td>\n",
       "      <td>27.329062</td>\n",
       "      <td>...</td>\n",
       "      <td>33.011662</td>\n",
       "      <td>2.985698</td>\n",
       "      <td>53.382343</td>\n",
       "      <td>53.568049</td>\n",
       "      <td>15.542883</td>\n",
       "      <td>24.499976</td>\n",
       "      <td>63.607702</td>\n",
       "      <td>27.714162</td>\n",
       "      <td>27.732872</td>\n",
       "      <td>22.112204</td>\n",
       "    </tr>\n",
       "    <tr>\n",
       "      <th>7557</th>\n",
       "      <td>24.233637</td>\n",
       "      <td>58.939708</td>\n",
       "      <td>38.468524</td>\n",
       "      <td>8.028612</td>\n",
       "      <td>16.713871</td>\n",
       "      <td>8.021644</td>\n",
       "      <td>16.347139</td>\n",
       "      <td>18.037001</td>\n",
       "      <td>79.913852</td>\n",
       "      <td>27.582470</td>\n",
       "      <td>...</td>\n",
       "      <td>33.354310</td>\n",
       "      <td>3.008572</td>\n",
       "      <td>53.275014</td>\n",
       "      <td>54.944762</td>\n",
       "      <td>15.414779</td>\n",
       "      <td>24.793600</td>\n",
       "      <td>64.050146</td>\n",
       "      <td>27.693921</td>\n",
       "      <td>27.906612</td>\n",
       "      <td>22.287780</td>\n",
       "    </tr>\n",
       "    <tr>\n",
       "      <th>7558</th>\n",
       "      <td>24.082657</td>\n",
       "      <td>58.551579</td>\n",
       "      <td>38.285048</td>\n",
       "      <td>8.001821</td>\n",
       "      <td>16.510975</td>\n",
       "      <td>7.976099</td>\n",
       "      <td>16.336109</td>\n",
       "      <td>17.661520</td>\n",
       "      <td>80.798705</td>\n",
       "      <td>27.638684</td>\n",
       "      <td>...</td>\n",
       "      <td>33.030218</td>\n",
       "      <td>2.979298</td>\n",
       "      <td>54.201463</td>\n",
       "      <td>54.758171</td>\n",
       "      <td>15.468800</td>\n",
       "      <td>24.956016</td>\n",
       "      <td>63.607322</td>\n",
       "      <td>27.710440</td>\n",
       "      <td>27.725261</td>\n",
       "      <td>21.985911</td>\n",
       "    </tr>\n",
       "    <tr>\n",
       "      <th>7559</th>\n",
       "      <td>24.159141</td>\n",
       "      <td>58.507729</td>\n",
       "      <td>37.902827</td>\n",
       "      <td>8.082951</td>\n",
       "      <td>16.588590</td>\n",
       "      <td>7.973139</td>\n",
       "      <td>15.923933</td>\n",
       "      <td>18.132623</td>\n",
       "      <td>81.452317</td>\n",
       "      <td>27.655346</td>\n",
       "      <td>...</td>\n",
       "      <td>33.034328</td>\n",
       "      <td>2.976156</td>\n",
       "      <td>55.100875</td>\n",
       "      <td>54.471475</td>\n",
       "      <td>15.458642</td>\n",
       "      <td>25.074555</td>\n",
       "      <td>64.524512</td>\n",
       "      <td>27.850952</td>\n",
       "      <td>27.815918</td>\n",
       "      <td>21.976159</td>\n",
       "    </tr>\n",
       "    <tr>\n",
       "      <th>7560</th>\n",
       "      <td>24.225805</td>\n",
       "      <td>59.180781</td>\n",
       "      <td>37.886121</td>\n",
       "      <td>8.140360</td>\n",
       "      <td>16.642760</td>\n",
       "      <td>7.925491</td>\n",
       "      <td>16.102218</td>\n",
       "      <td>18.037717</td>\n",
       "      <td>80.461934</td>\n",
       "      <td>28.052360</td>\n",
       "      <td>...</td>\n",
       "      <td>32.446783</td>\n",
       "      <td>3.012674</td>\n",
       "      <td>55.160634</td>\n",
       "      <td>54.724701</td>\n",
       "      <td>15.416203</td>\n",
       "      <td>25.239163</td>\n",
       "      <td>64.778771</td>\n",
       "      <td>27.813872</td>\n",
       "      <td>27.800848</td>\n",
       "      <td>22.060331</td>\n",
       "    </tr>\n",
       "  </tbody>\n",
       "</table>\n",
       "<p>7561 rows × 100 columns</p>\n",
       "</div>"
      ],
      "text/plain": [
       "             0          1          2         3          4         5   \\\n",
       "0      1.000000   1.000000   1.000000  1.000000   1.000000  1.000000   \n",
       "1      0.997001   1.011847   0.993951  1.012176   0.997408  0.995396   \n",
       "2      0.996021   1.005222   0.998432  1.003112   1.000915  1.000586   \n",
       "3      0.993630   1.006134   0.993220  1.005230   0.996139  1.001851   \n",
       "4      0.981578   1.003831   1.013499  0.992212   0.994050  0.998801   \n",
       "...         ...        ...        ...       ...        ...       ...   \n",
       "7556  24.001897  58.277444  38.705372  8.058442  16.591287  8.027894   \n",
       "7557  24.233637  58.939708  38.468524  8.028612  16.713871  8.021644   \n",
       "7558  24.082657  58.551579  38.285048  8.001821  16.510975  7.976099   \n",
       "7559  24.159141  58.507729  37.902827  8.082951  16.588590  7.973139   \n",
       "7560  24.225805  59.180781  37.886121  8.140360  16.642760  7.925491   \n",
       "\n",
       "             6          7          8          9   ...         90        91  \\\n",
       "0      1.000000   1.000000   1.000000   1.000000  ...   1.000000  1.000000   \n",
       "1      0.994770   1.009081   1.008262   1.018812  ...   0.994766  0.987437   \n",
       "2      0.991940   1.013795   1.016713   1.001113  ...   1.005748  0.982050   \n",
       "3      0.989899   1.001195   1.011157   1.009402  ...   1.000367  0.983003   \n",
       "4      1.012750   1.007555   1.016960   1.011022  ...   1.016389  0.989860   \n",
       "...         ...        ...        ...        ...  ...        ...       ...   \n",
       "7556  16.668613  17.981487  79.220599  27.329062  ...  33.011662  2.985698   \n",
       "7557  16.347139  18.037001  79.913852  27.582470  ...  33.354310  3.008572   \n",
       "7558  16.336109  17.661520  80.798705  27.638684  ...  33.030218  2.979298   \n",
       "7559  15.923933  18.132623  81.452317  27.655346  ...  33.034328  2.976156   \n",
       "7560  16.102218  18.037717  80.461934  28.052360  ...  32.446783  3.012674   \n",
       "\n",
       "             92         93         94         95         96         97  \\\n",
       "0      1.000000   1.000000   1.000000   1.000000   1.000000   1.000000   \n",
       "1      1.011855   0.994383   1.007827   1.005374   1.004240   1.018310   \n",
       "2      1.004503   0.990731   1.017502   1.005280   1.016515   1.025233   \n",
       "3      1.000898   0.984375   1.005200   1.006607   1.033295   1.031170   \n",
       "4      1.002600   0.986194   0.999128   0.994383   1.041435   1.035799   \n",
       "...         ...        ...        ...        ...        ...        ...   \n",
       "7556  53.382343  53.568049  15.542883  24.499976  63.607702  27.714162   \n",
       "7557  53.275014  54.944762  15.414779  24.793600  64.050146  27.693921   \n",
       "7558  54.201463  54.758171  15.468800  24.956016  63.607322  27.710440   \n",
       "7559  55.100875  54.471475  15.458642  25.074555  64.524512  27.850952   \n",
       "7560  55.160634  54.724701  15.416203  25.239163  64.778771  27.813872   \n",
       "\n",
       "             98         99  \n",
       "0      1.000000   1.000000  \n",
       "1      1.003457   0.986276  \n",
       "2      0.994442   0.989326  \n",
       "3      0.992898   0.971815  \n",
       "4      0.994423   0.968371  \n",
       "...         ...        ...  \n",
       "7556  27.732872  22.112204  \n",
       "7557  27.906612  22.287780  \n",
       "7558  27.725261  21.985911  \n",
       "7559  27.815918  21.976159  \n",
       "7560  27.800848  22.060331  \n",
       "\n",
       "[7561 rows x 100 columns]"
      ]
     },
     "execution_count": 31,
     "metadata": {},
     "output_type": "execute_result"
    }
   ],
   "source": [
    "# Run the Monte Carlo simulation to forecast 30 years cumulative returns\n",
    "MC_thirty_year.calc_cumulative_return()\n"
   ]
  },
  {
   "cell_type": "code",
   "execution_count": 32,
   "metadata": {},
   "outputs": [
    {
     "data": {
      "text/plain": [
       "<AxesSubplot:title={'center':'100 Simulations of Cumulative Portfolio Return Trajectories Over the Next 7560 Trading Days.'}>"
      ]
     },
     "execution_count": 32,
     "metadata": {},
     "output_type": "execute_result"
    },
    {
     "data": {
      "image/png": "[encoded data removed]",
      "text/plain": [
       "<Figure size 432x288 with 1 Axes>"
      ]
     },
     "metadata": {
      "needs_background": "light"
     },
     "output_type": "display_data"
    }
   ],
   "source": [
    "# Visualize the 30-year Monte Carlo simulation by creating an\n",
    "# overlay line plot\n",
    "MC_thirty_year.plot_simulation()"
   ]
  },
  {
   "cell_type": "markdown",
   "metadata": {
    "tags": []
   },
   "source": [
    "#### Step 3: Plot the probability distribution of the Monte Carlo simulation."
   ]
  },
  {
   "cell_type": "code",
   "execution_count": 33,
   "metadata": {},
   "outputs": [
    {
     "data": {
      "text/plain": [
       "<AxesSubplot:title={'center':'Distribution of Final Cumuluative Returns Across All 100 Simulations'}, ylabel='Frequency'>"
      ]
     },
     "execution_count": 33,
     "metadata": {},
     "output_type": "execute_result"
    },
    {
     "data": {
      "image/png": "[encoded data removed]",
      "text/plain": [
       "<Figure size 432x288 with 1 Axes>"
      ]
     },
     "metadata": {
      "needs_background": "light"
     },
     "output_type": "display_data"
    }
   ],
   "source": [
    "# Visualize the probability distribution of the 30-year Monte Carlo simulation \n",
    "# by plotting a histogram\n",
    "MC_thirty_year.plot_distribution()\n"
   ]
  },
  {
   "cell_type": "markdown",
   "metadata": {},
   "source": [
    "#### Step 4: Generate the summary statistics for the Monte Carlo simulation."
   ]
  },
  {
   "cell_type": "code",
   "execution_count": 34,
   "metadata": {},
   "outputs": [
    {
     "name": "stderr",
     "output_type": "stream",
     "text": [
      "C:\\Users\\jenni\\OneDrive\\Desktop\\FinTech-Workspace\\ModulesorWeeklyChallenges\\Challenge Module 5\\Starter_Code-1\\Starter_Code\\MCForecastTools.py:172: FutureWarning: The series.append method is deprecated and will be removed from pandas in a future version. Use pandas.concat instead.\n",
      "  return metrics.append(ci_series)\n"
     ]
    },
    {
     "data": {
      "text/plain": [
       "count           100.000000\n",
       "mean             25.249127\n",
       "std              19.120092\n",
       "min               3.012674\n",
       "25%              10.138513\n",
       "50%              19.409953\n",
       "75%              33.010003\n",
       "max             103.776777\n",
       "95% CI Lower      4.286257\n",
       "95% CI Upper     62.417959\n",
       "Name: 7560, dtype: float64"
      ]
     },
     "execution_count": 34,
     "metadata": {},
     "output_type": "execute_result"
    }
   ],
   "source": [
    "# Generate summary statistics from the 30-year Monte Carlo simulation results\n",
    "# Save the results as a variable\n",
    "MC_thirty_summary = MC_thirty_year.summarize_cumulative_return()\n",
    "\n",
    "\n",
    "# Review the 30-year Monte Carlo summary statistics\n",
    "MC_thirty_summary"
   ]
  },
  {
   "cell_type": "markdown",
   "metadata": {},
   "source": [
    "### Analyze the Retirement Portfolio Forecasts\n",
    "\n",
    "Using the current value of only the stock and bond portion of the member's portfolio and the summary statistics that you generated from the Monte Carlo simulation, answer the following question in your Jupyter notebook:\n",
    "\n",
    "-  What are the lower and upper bounds for the expected value of the portfolio with a 95% confidence interval?\n"
   ]
  },
  {
   "cell_type": "code",
   "execution_count": 35,
   "metadata": {},
   "outputs": [
    {
     "name": "stdout",
     "output_type": "stream",
     "text": [
      "The current value of the stocks/bonds portfolio is 70942.8\n"
     ]
    }
   ],
   "source": [
    "# Print the current balance of the stock and bond portion of the members portfolio\n",
    "print(f\"The current value of the stocks/bonds portfolio is {total_stocks_bonds}\")\n"
   ]
  },
  {
   "cell_type": "code",
   "execution_count": 38,
   "metadata": {},
   "outputs": [
    {
     "name": "stdout",
     "output_type": "stream",
     "text": [
      "Given the current value of our stock portfolio, the cumulative returns over the next 30 years is forecast to be between $ 304079.09 and $ 4428104.76\n"
     ]
    }
   ],
   "source": [
    "# Use the lower and upper `95%` confidence intervals to calculate the range of the possible outcomes for the current stock/bond portfolio\n",
    "ci_lower_thirty_cumulative_return = MC_thirty_summary[8] * total_stocks_bonds\n",
    "ci_upper_thirty_cumulative_return = MC_thirty_summary[9]* total_stocks_bonds\n",
    "\n",
    "# Print the result of your calculations\n",
    "print(f\"Given the current value of our stock portfolio, the cumulative returns over the next 30 years is forecast to be between ${ci_lower_thirty_cumulative_return: .2f} and ${ci_upper_thirty_cumulative_return: .2f}\")\n"
   ]
  },
  {
   "cell_type": "markdown",
   "metadata": {},
   "source": [
    "### Forecast Cumulative Returns in 10 Years\n",
    "\n",
    "The CTO of the credit union is impressed with your work on these planning tools but wonders if 30 years is a long time to wait until retirement. So, your next task is to adjust the retirement portfolio and run a new Monte Carlo simulation to find out if the changes will allow members to retire earlier.\n",
    "\n",
    "For this new Monte Carlo simulation, do the following: \n",
    "\n",
    "- Forecast the cumulative returns for 10 years from now. Because of the shortened investment horizon (30 years to 10 years), the portfolio needs to invest more heavily in the riskier asset&mdash;that is, stock&mdash;to help accumulate wealth for retirement. \n",
    "\n",
    "- Adjust the weights of the retirement portfolio so that the composition for the Monte Carlo simulation consists of 20% bonds and 80% stocks. \n",
    "\n",
    "- Run the simulation over 500 samples, and use the same data that the API call to Alpaca generated.\n",
    "\n",
    "- Based on the new Monte Carlo simulation, answer the following questions in your Jupyter notebook:\n",
    "\n",
    "    - Using the current value of only the stock and bond portion of the member's portfolio and the summary statistics that you generated from the new Monte Carlo simulation, what are the lower and upper bounds for the expected value of the portfolio (with the new weights) with a 95% confidence interval?\n",
    "\n",
    "    - Will weighting the portfolio more heavily toward stocks allow the credit union members to retire after only 10 years?\n"
   ]
  },
  {
   "cell_type": "code",
   "execution_count": 39,
   "metadata": {},
   "outputs": [
    {
     "data": {
      "text/html": [
       "<div>\n",
       "<style scoped>\n",
       "    .dataframe tbody tr th:only-of-type {\n",
       "        vertical-align: middle;\n",
       "    }\n",
       "\n",
       "    .dataframe tbody tr th {\n",
       "        vertical-align: top;\n",
       "    }\n",
       "\n",
       "    .dataframe thead tr th {\n",
       "        text-align: left;\n",
       "    }\n",
       "\n",
       "    .dataframe thead tr:last-of-type th {\n",
       "        text-align: right;\n",
       "    }\n",
       "</style>\n",
       "<table border=\"1\" class=\"dataframe\">\n",
       "  <thead>\n",
       "    <tr>\n",
       "      <th></th>\n",
       "      <th colspan=\"8\" halign=\"left\">SPY</th>\n",
       "      <th colspan=\"8\" halign=\"left\">AGG</th>\n",
       "    </tr>\n",
       "    <tr>\n",
       "      <th></th>\n",
       "      <th>open</th>\n",
       "      <th>high</th>\n",
       "      <th>low</th>\n",
       "      <th>close</th>\n",
       "      <th>volume</th>\n",
       "      <th>trade_count</th>\n",
       "      <th>vwap</th>\n",
       "      <th>daily_return</th>\n",
       "      <th>open</th>\n",
       "      <th>high</th>\n",
       "      <th>low</th>\n",
       "      <th>close</th>\n",
       "      <th>volume</th>\n",
       "      <th>trade_count</th>\n",
       "      <th>vwap</th>\n",
       "      <th>daily_return</th>\n",
       "    </tr>\n",
       "    <tr>\n",
       "      <th>timestamp</th>\n",
       "      <th></th>\n",
       "      <th></th>\n",
       "      <th></th>\n",
       "      <th></th>\n",
       "      <th></th>\n",
       "      <th></th>\n",
       "      <th></th>\n",
       "      <th></th>\n",
       "      <th></th>\n",
       "      <th></th>\n",
       "      <th></th>\n",
       "      <th></th>\n",
       "      <th></th>\n",
       "      <th></th>\n",
       "      <th></th>\n",
       "      <th></th>\n",
       "    </tr>\n",
       "  </thead>\n",
       "  <tbody>\n",
       "    <tr>\n",
       "      <th>2015-12-01 05:00:00+00:00</th>\n",
       "      <td>209.42</td>\n",
       "      <td>210.8200</td>\n",
       "      <td>209.1100</td>\n",
       "      <td>210.68</td>\n",
       "      <td>97858418</td>\n",
       "      <td>337780</td>\n",
       "      <td>209.921410</td>\n",
       "      <td>NaN</td>\n",
       "      <td>108.54</td>\n",
       "      <td>108.8400</td>\n",
       "      <td>108.43</td>\n",
       "      <td>108.82</td>\n",
       "      <td>4259986</td>\n",
       "      <td>15562</td>\n",
       "      <td>108.754152</td>\n",
       "      <td>NaN</td>\n",
       "    </tr>\n",
       "    <tr>\n",
       "      <th>2015-12-02 05:00:00+00:00</th>\n",
       "      <td>210.60</td>\n",
       "      <td>211.0000</td>\n",
       "      <td>208.2300</td>\n",
       "      <td>208.54</td>\n",
       "      <td>108069059</td>\n",
       "      <td>367013</td>\n",
       "      <td>209.563055</td>\n",
       "      <td>-0.010158</td>\n",
       "      <td>108.73</td>\n",
       "      <td>108.7799</td>\n",
       "      <td>108.61</td>\n",
       "      <td>108.67</td>\n",
       "      <td>2462787</td>\n",
       "      <td>11581</td>\n",
       "      <td>108.684692</td>\n",
       "      <td>-0.001378</td>\n",
       "    </tr>\n",
       "    <tr>\n",
       "      <th>2015-12-03 05:00:00+00:00</th>\n",
       "      <td>208.90</td>\n",
       "      <td>209.1500</td>\n",
       "      <td>204.7511</td>\n",
       "      <td>205.58</td>\n",
       "      <td>166224154</td>\n",
       "      <td>546768</td>\n",
       "      <td>206.878936</td>\n",
       "      <td>-0.014194</td>\n",
       "      <td>108.41</td>\n",
       "      <td>108.4100</td>\n",
       "      <td>107.81</td>\n",
       "      <td>107.89</td>\n",
       "      <td>4634020</td>\n",
       "      <td>16801</td>\n",
       "      <td>108.040315</td>\n",
       "      <td>-0.007178</td>\n",
       "    </tr>\n",
       "    <tr>\n",
       "      <th>2015-12-04 05:00:00+00:00</th>\n",
       "      <td>206.10</td>\n",
       "      <td>209.9700</td>\n",
       "      <td>205.9300</td>\n",
       "      <td>209.66</td>\n",
       "      <td>192878747</td>\n",
       "      <td>556731</td>\n",
       "      <td>208.178631</td>\n",
       "      <td>0.019846</td>\n",
       "      <td>108.05</td>\n",
       "      <td>108.3000</td>\n",
       "      <td>108.00</td>\n",
       "      <td>108.24</td>\n",
       "      <td>2182057</td>\n",
       "      <td>9796</td>\n",
       "      <td>108.192232</td>\n",
       "      <td>0.003244</td>\n",
       "    </tr>\n",
       "    <tr>\n",
       "      <th>2015-12-07 05:00:00+00:00</th>\n",
       "      <td>209.20</td>\n",
       "      <td>209.7295</td>\n",
       "      <td>207.2000</td>\n",
       "      <td>208.27</td>\n",
       "      <td>102027111</td>\n",
       "      <td>374705</td>\n",
       "      <td>208.276128</td>\n",
       "      <td>-0.006630</td>\n",
       "      <td>108.30</td>\n",
       "      <td>108.5800</td>\n",
       "      <td>108.23</td>\n",
       "      <td>108.40</td>\n",
       "      <td>2143773</td>\n",
       "      <td>9104</td>\n",
       "      <td>108.460067</td>\n",
       "      <td>0.001478</td>\n",
       "    </tr>\n",
       "  </tbody>\n",
       "</table>\n",
       "</div>"
      ],
      "text/plain": [
       "                              SPY                                         \\\n",
       "                             open      high       low   close     volume   \n",
       "timestamp                                                                  \n",
       "2015-12-01 05:00:00+00:00  209.42  210.8200  209.1100  210.68   97858418   \n",
       "2015-12-02 05:00:00+00:00  210.60  211.0000  208.2300  208.54  108069059   \n",
       "2015-12-03 05:00:00+00:00  208.90  209.1500  204.7511  205.58  166224154   \n",
       "2015-12-04 05:00:00+00:00  206.10  209.9700  205.9300  209.66  192878747   \n",
       "2015-12-07 05:00:00+00:00  209.20  209.7295  207.2000  208.27  102027111   \n",
       "\n",
       "                                                                   AGG  \\\n",
       "                          trade_count        vwap daily_return    open   \n",
       "timestamp                                                                \n",
       "2015-12-01 05:00:00+00:00      337780  209.921410          NaN  108.54   \n",
       "2015-12-02 05:00:00+00:00      367013  209.563055    -0.010158  108.73   \n",
       "2015-12-03 05:00:00+00:00      546768  206.878936    -0.014194  108.41   \n",
       "2015-12-04 05:00:00+00:00      556731  208.178631     0.019846  108.05   \n",
       "2015-12-07 05:00:00+00:00      374705  208.276128    -0.006630  108.30   \n",
       "\n",
       "                                                                          \\\n",
       "                               high     low   close   volume trade_count   \n",
       "timestamp                                                                  \n",
       "2015-12-01 05:00:00+00:00  108.8400  108.43  108.82  4259986       15562   \n",
       "2015-12-02 05:00:00+00:00  108.7799  108.61  108.67  2462787       11581   \n",
       "2015-12-03 05:00:00+00:00  108.4100  107.81  107.89  4634020       16801   \n",
       "2015-12-04 05:00:00+00:00  108.3000  108.00  108.24  2182057        9796   \n",
       "2015-12-07 05:00:00+00:00  108.5800  108.23  108.40  2143773        9104   \n",
       "\n",
       "                                                    \n",
       "                                 vwap daily_return  \n",
       "timestamp                                           \n",
       "2015-12-01 05:00:00+00:00  108.754152          NaN  \n",
       "2015-12-02 05:00:00+00:00  108.684692    -0.001378  \n",
       "2015-12-03 05:00:00+00:00  108.040315    -0.007178  \n",
       "2015-12-04 05:00:00+00:00  108.192232     0.003244  \n",
       "2015-12-07 05:00:00+00:00  108.460067     0.001478  "
      ]
     },
     "execution_count": 39,
     "metadata": {},
     "output_type": "execute_result"
    }
   ],
   "source": [
    "# Configure a Monte Carlo simulation to forecast 10 years cumulative returns\n",
    "# The weights should be split 20% to AGG and 80% to SPY.\n",
    "# Run 500 samples.\n",
    "MC_ten_year = MCSimulation(\n",
    "    portfolio_data= portfolio_prices_df,\n",
    "    weights=[0.80, 0.20],\n",
    "    num_simulation = 100,\n",
    "    num_trading_days = 252 * 10\n",
    ")\n",
    "\n",
    "# Review the simulation input data\n",
    "# verify?\n",
    "MC_ten_year.portfolio_data.head()\n"
   ]
  },
  {
   "cell_type": "code",
   "execution_count": 40,
   "metadata": {},
   "outputs": [
    {
     "name": "stdout",
     "output_type": "stream",
     "text": [
      "Running Monte Carlo simulation number 0.\n",
      "Running Monte Carlo simulation number 10.\n",
      "Running Monte Carlo simulation number 20.\n",
      "Running Monte Carlo simulation number 30.\n",
      "Running Monte Carlo simulation number 40.\n",
      "Running Monte Carlo simulation number 50.\n",
      "Running Monte Carlo simulation number 60.\n",
      "Running Monte Carlo simulation number 70.\n",
      "Running Monte Carlo simulation number 80.\n",
      "Running Monte Carlo simulation number 90.\n"
     ]
    },
    {
     "data": {
      "text/html": [
       "<div>\n",
       "<style scoped>\n",
       "    .dataframe tbody tr th:only-of-type {\n",
       "        vertical-align: middle;\n",
       "    }\n",
       "\n",
       "    .dataframe tbody tr th {\n",
       "        vertical-align: top;\n",
       "    }\n",
       "\n",
       "    .dataframe thead th {\n",
       "        text-align: right;\n",
       "    }\n",
       "</style>\n",
       "<table border=\"1\" class=\"dataframe\">\n",
       "  <thead>\n",
       "    <tr style=\"text-align: right;\">\n",
       "      <th></th>\n",
       "      <th>0</th>\n",
       "      <th>1</th>\n",
       "      <th>2</th>\n",
       "      <th>3</th>\n",
       "      <th>4</th>\n",
       "      <th>5</th>\n",
       "      <th>6</th>\n",
       "      <th>7</th>\n",
       "      <th>8</th>\n",
       "      <th>9</th>\n",
       "      <th>...</th>\n",
       "      <th>90</th>\n",
       "      <th>91</th>\n",
       "      <th>92</th>\n",
       "      <th>93</th>\n",
       "      <th>94</th>\n",
       "      <th>95</th>\n",
       "      <th>96</th>\n",
       "      <th>97</th>\n",
       "      <th>98</th>\n",
       "      <th>99</th>\n",
       "    </tr>\n",
       "  </thead>\n",
       "  <tbody>\n",
       "    <tr>\n",
       "      <th>0</th>\n",
       "      <td>1.000000</td>\n",
       "      <td>1.000000</td>\n",
       "      <td>1.000000</td>\n",
       "      <td>1.000000</td>\n",
       "      <td>1.000000</td>\n",
       "      <td>1.000000</td>\n",
       "      <td>1.000000</td>\n",
       "      <td>1.000000</td>\n",
       "      <td>1.000000</td>\n",
       "      <td>1.000000</td>\n",
       "      <td>...</td>\n",
       "      <td>1.000000</td>\n",
       "      <td>1.000000</td>\n",
       "      <td>1.000000</td>\n",
       "      <td>1.000000</td>\n",
       "      <td>1.000000</td>\n",
       "      <td>1.000000</td>\n",
       "      <td>1.000000</td>\n",
       "      <td>1.000000</td>\n",
       "      <td>1.000000</td>\n",
       "      <td>1.000000</td>\n",
       "    </tr>\n",
       "    <tr>\n",
       "      <th>1</th>\n",
       "      <td>1.003870</td>\n",
       "      <td>1.010332</td>\n",
       "      <td>0.995522</td>\n",
       "      <td>0.983349</td>\n",
       "      <td>0.986467</td>\n",
       "      <td>1.003981</td>\n",
       "      <td>1.005124</td>\n",
       "      <td>1.002179</td>\n",
       "      <td>1.001649</td>\n",
       "      <td>0.988574</td>\n",
       "      <td>...</td>\n",
       "      <td>0.989006</td>\n",
       "      <td>1.013899</td>\n",
       "      <td>1.004240</td>\n",
       "      <td>0.995051</td>\n",
       "      <td>1.002591</td>\n",
       "      <td>0.990884</td>\n",
       "      <td>0.996646</td>\n",
       "      <td>0.995982</td>\n",
       "      <td>0.993508</td>\n",
       "      <td>1.001233</td>\n",
       "    </tr>\n",
       "    <tr>\n",
       "      <th>2</th>\n",
       "      <td>1.006444</td>\n",
       "      <td>1.012047</td>\n",
       "      <td>0.996378</td>\n",
       "      <td>0.978479</td>\n",
       "      <td>0.980327</td>\n",
       "      <td>0.997407</td>\n",
       "      <td>1.001841</td>\n",
       "      <td>1.001648</td>\n",
       "      <td>0.997697</td>\n",
       "      <td>0.989457</td>\n",
       "      <td>...</td>\n",
       "      <td>0.986935</td>\n",
       "      <td>1.016836</td>\n",
       "      <td>0.997368</td>\n",
       "      <td>1.000201</td>\n",
       "      <td>0.998941</td>\n",
       "      <td>0.992448</td>\n",
       "      <td>0.991583</td>\n",
       "      <td>0.993138</td>\n",
       "      <td>0.989372</td>\n",
       "      <td>1.008774</td>\n",
       "    </tr>\n",
       "    <tr>\n",
       "      <th>3</th>\n",
       "      <td>1.008489</td>\n",
       "      <td>1.013752</td>\n",
       "      <td>0.999697</td>\n",
       "      <td>0.974582</td>\n",
       "      <td>0.984367</td>\n",
       "      <td>0.995698</td>\n",
       "      <td>1.000251</td>\n",
       "      <td>1.007202</td>\n",
       "      <td>0.997455</td>\n",
       "      <td>1.001590</td>\n",
       "      <td>...</td>\n",
       "      <td>0.989593</td>\n",
       "      <td>1.011415</td>\n",
       "      <td>0.998760</td>\n",
       "      <td>1.002192</td>\n",
       "      <td>0.997574</td>\n",
       "      <td>0.992751</td>\n",
       "      <td>1.003213</td>\n",
       "      <td>0.997690</td>\n",
       "      <td>0.995038</td>\n",
       "      <td>1.009636</td>\n",
       "    </tr>\n",
       "    <tr>\n",
       "      <th>4</th>\n",
       "      <td>1.001678</td>\n",
       "      <td>1.023854</td>\n",
       "      <td>1.003099</td>\n",
       "      <td>0.972543</td>\n",
       "      <td>0.968952</td>\n",
       "      <td>0.992714</td>\n",
       "      <td>1.007729</td>\n",
       "      <td>1.006155</td>\n",
       "      <td>0.991355</td>\n",
       "      <td>1.001136</td>\n",
       "      <td>...</td>\n",
       "      <td>0.974101</td>\n",
       "      <td>1.023501</td>\n",
       "      <td>0.989238</td>\n",
       "      <td>1.009733</td>\n",
       "      <td>0.999543</td>\n",
       "      <td>0.994281</td>\n",
       "      <td>0.995387</td>\n",
       "      <td>1.005555</td>\n",
       "      <td>0.994065</td>\n",
       "      <td>1.010455</td>\n",
       "    </tr>\n",
       "    <tr>\n",
       "      <th>...</th>\n",
       "      <td>...</td>\n",
       "      <td>...</td>\n",
       "      <td>...</td>\n",
       "      <td>...</td>\n",
       "      <td>...</td>\n",
       "      <td>...</td>\n",
       "      <td>...</td>\n",
       "      <td>...</td>\n",
       "      <td>...</td>\n",
       "      <td>...</td>\n",
       "      <td>...</td>\n",
       "      <td>...</td>\n",
       "      <td>...</td>\n",
       "      <td>...</td>\n",
       "      <td>...</td>\n",
       "      <td>...</td>\n",
       "      <td>...</td>\n",
       "      <td>...</td>\n",
       "      <td>...</td>\n",
       "      <td>...</td>\n",
       "      <td>...</td>\n",
       "    </tr>\n",
       "    <tr>\n",
       "      <th>2516</th>\n",
       "      <td>3.385313</td>\n",
       "      <td>2.928724</td>\n",
       "      <td>2.547596</td>\n",
       "      <td>2.822133</td>\n",
       "      <td>2.291635</td>\n",
       "      <td>1.737297</td>\n",
       "      <td>2.359470</td>\n",
       "      <td>1.917813</td>\n",
       "      <td>2.980246</td>\n",
       "      <td>1.645422</td>\n",
       "      <td>...</td>\n",
       "      <td>3.224075</td>\n",
       "      <td>4.711805</td>\n",
       "      <td>1.438691</td>\n",
       "      <td>2.690910</td>\n",
       "      <td>2.345541</td>\n",
       "      <td>1.285301</td>\n",
       "      <td>3.622068</td>\n",
       "      <td>2.642379</td>\n",
       "      <td>3.228213</td>\n",
       "      <td>2.521063</td>\n",
       "    </tr>\n",
       "    <tr>\n",
       "      <th>2517</th>\n",
       "      <td>3.384177</td>\n",
       "      <td>2.951401</td>\n",
       "      <td>2.525499</td>\n",
       "      <td>2.821084</td>\n",
       "      <td>2.293061</td>\n",
       "      <td>1.722513</td>\n",
       "      <td>2.318128</td>\n",
       "      <td>1.893721</td>\n",
       "      <td>2.962976</td>\n",
       "      <td>1.638955</td>\n",
       "      <td>...</td>\n",
       "      <td>3.204273</td>\n",
       "      <td>4.698612</td>\n",
       "      <td>1.431391</td>\n",
       "      <td>2.700418</td>\n",
       "      <td>2.321023</td>\n",
       "      <td>1.278291</td>\n",
       "      <td>3.621376</td>\n",
       "      <td>2.620678</td>\n",
       "      <td>3.251044</td>\n",
       "      <td>2.535811</td>\n",
       "    </tr>\n",
       "    <tr>\n",
       "      <th>2518</th>\n",
       "      <td>3.400135</td>\n",
       "      <td>2.954186</td>\n",
       "      <td>2.539394</td>\n",
       "      <td>2.819256</td>\n",
       "      <td>2.275103</td>\n",
       "      <td>1.720944</td>\n",
       "      <td>2.308260</td>\n",
       "      <td>1.891340</td>\n",
       "      <td>2.962213</td>\n",
       "      <td>1.659707</td>\n",
       "      <td>...</td>\n",
       "      <td>3.202330</td>\n",
       "      <td>4.708898</td>\n",
       "      <td>1.411153</td>\n",
       "      <td>2.738004</td>\n",
       "      <td>2.317140</td>\n",
       "      <td>1.275234</td>\n",
       "      <td>3.664476</td>\n",
       "      <td>2.604959</td>\n",
       "      <td>3.287863</td>\n",
       "      <td>2.542950</td>\n",
       "    </tr>\n",
       "    <tr>\n",
       "      <th>2519</th>\n",
       "      <td>3.387517</td>\n",
       "      <td>2.910770</td>\n",
       "      <td>2.557669</td>\n",
       "      <td>2.827540</td>\n",
       "      <td>2.269576</td>\n",
       "      <td>1.733497</td>\n",
       "      <td>2.316285</td>\n",
       "      <td>1.891083</td>\n",
       "      <td>2.958466</td>\n",
       "      <td>1.662735</td>\n",
       "      <td>...</td>\n",
       "      <td>3.188329</td>\n",
       "      <td>4.732788</td>\n",
       "      <td>1.419832</td>\n",
       "      <td>2.740446</td>\n",
       "      <td>2.304981</td>\n",
       "      <td>1.289776</td>\n",
       "      <td>3.658225</td>\n",
       "      <td>2.615735</td>\n",
       "      <td>3.277089</td>\n",
       "      <td>2.543323</td>\n",
       "    </tr>\n",
       "    <tr>\n",
       "      <th>2520</th>\n",
       "      <td>3.374892</td>\n",
       "      <td>2.890939</td>\n",
       "      <td>2.549316</td>\n",
       "      <td>2.823279</td>\n",
       "      <td>2.253444</td>\n",
       "      <td>1.725934</td>\n",
       "      <td>2.298216</td>\n",
       "      <td>1.887943</td>\n",
       "      <td>2.967843</td>\n",
       "      <td>1.665114</td>\n",
       "      <td>...</td>\n",
       "      <td>3.181661</td>\n",
       "      <td>4.713209</td>\n",
       "      <td>1.423436</td>\n",
       "      <td>2.737525</td>\n",
       "      <td>2.295004</td>\n",
       "      <td>1.296017</td>\n",
       "      <td>3.656497</td>\n",
       "      <td>2.635752</td>\n",
       "      <td>3.250393</td>\n",
       "      <td>2.535771</td>\n",
       "    </tr>\n",
       "  </tbody>\n",
       "</table>\n",
       "<p>2521 rows × 100 columns</p>\n",
       "</div>"
      ],
      "text/plain": [
       "            0         1         2         3         4         5         6   \\\n",
       "0     1.000000  1.000000  1.000000  1.000000  1.000000  1.000000  1.000000   \n",
       "1     1.003870  1.010332  0.995522  0.983349  0.986467  1.003981  1.005124   \n",
       "2     1.006444  1.012047  0.996378  0.978479  0.980327  0.997407  1.001841   \n",
       "3     1.008489  1.013752  0.999697  0.974582  0.984367  0.995698  1.000251   \n",
       "4     1.001678  1.023854  1.003099  0.972543  0.968952  0.992714  1.007729   \n",
       "...        ...       ...       ...       ...       ...       ...       ...   \n",
       "2516  3.385313  2.928724  2.547596  2.822133  2.291635  1.737297  2.359470   \n",
       "2517  3.384177  2.951401  2.525499  2.821084  2.293061  1.722513  2.318128   \n",
       "2518  3.400135  2.954186  2.539394  2.819256  2.275103  1.720944  2.308260   \n",
       "2519  3.387517  2.910770  2.557669  2.827540  2.269576  1.733497  2.316285   \n",
       "2520  3.374892  2.890939  2.549316  2.823279  2.253444  1.725934  2.298216   \n",
       "\n",
       "            7         8         9   ...        90        91        92  \\\n",
       "0     1.000000  1.000000  1.000000  ...  1.000000  1.000000  1.000000   \n",
       "1     1.002179  1.001649  0.988574  ...  0.989006  1.013899  1.004240   \n",
       "2     1.001648  0.997697  0.989457  ...  0.986935  1.016836  0.997368   \n",
       "3     1.007202  0.997455  1.001590  ...  0.989593  1.011415  0.998760   \n",
       "4     1.006155  0.991355  1.001136  ...  0.974101  1.023501  0.989238   \n",
       "...        ...       ...       ...  ...       ...       ...       ...   \n",
       "2516  1.917813  2.980246  1.645422  ...  3.224075  4.711805  1.438691   \n",
       "2517  1.893721  2.962976  1.638955  ...  3.204273  4.698612  1.431391   \n",
       "2518  1.891340  2.962213  1.659707  ...  3.202330  4.708898  1.411153   \n",
       "2519  1.891083  2.958466  1.662735  ...  3.188329  4.732788  1.419832   \n",
       "2520  1.887943  2.967843  1.665114  ...  3.181661  4.713209  1.423436   \n",
       "\n",
       "            93        94        95        96        97        98        99  \n",
       "0     1.000000  1.000000  1.000000  1.000000  1.000000  1.000000  1.000000  \n",
       "1     0.995051  1.002591  0.990884  0.996646  0.995982  0.993508  1.001233  \n",
       "2     1.000201  0.998941  0.992448  0.991583  0.993138  0.989372  1.008774  \n",
       "3     1.002192  0.997574  0.992751  1.003213  0.997690  0.995038  1.009636  \n",
       "4     1.009733  0.999543  0.994281  0.995387  1.005555  0.994065  1.010455  \n",
       "...        ...       ...       ...       ...       ...       ...       ...  \n",
       "2516  2.690910  2.345541  1.285301  3.622068  2.642379  3.228213  2.521063  \n",
       "2517  2.700418  2.321023  1.278291  3.621376  2.620678  3.251044  2.535811  \n",
       "2518  2.738004  2.317140  1.275234  3.664476  2.604959  3.287863  2.542950  \n",
       "2519  2.740446  2.304981  1.289776  3.658225  2.615735  3.277089  2.543323  \n",
       "2520  2.737525  2.295004  1.296017  3.656497  2.635752  3.250393  2.535771  \n",
       "\n",
       "[2521 rows x 100 columns]"
      ]
     },
     "execution_count": 40,
     "metadata": {},
     "output_type": "execute_result"
    }
   ],
   "source": [
    "# Run the Monte Carlo simulation to forecast 10 years cumulative returns\n",
    "# verify?\n",
    "MC_ten_year.calc_cumulative_return()"
   ]
  },
  {
   "cell_type": "code",
   "execution_count": 41,
   "metadata": {},
   "outputs": [
    {
     "data": {
      "text/plain": [
       "<AxesSubplot:title={'center':'100 Simulations of Cumulative Portfolio Return Trajectories Over the Next 2520 Trading Days.'}>"
      ]
     },
     "execution_count": 41,
     "metadata": {},
     "output_type": "execute_result"
    },
    {
     "data": {
      "image/png": "[encoded data removed]",
      "text/plain": [
       "<Figure size 432x288 with 1 Axes>"
      ]
     },
     "metadata": {
      "needs_background": "light"
     },
     "output_type": "display_data"
    }
   ],
   "source": [
    "# Visualize the 10-year Monte Carlo simulation by creating an\n",
    "# overlay line plot\n",
    "MC_ten_year.plot_simulation()\n"
   ]
  },
  {
   "cell_type": "code",
   "execution_count": 42,
   "metadata": {},
   "outputs": [
    {
     "data": {
      "text/plain": [
       "<AxesSubplot:title={'center':'Distribution of Final Cumuluative Returns Across All 100 Simulations'}, ylabel='Frequency'>"
      ]
     },
     "execution_count": 42,
     "metadata": {},
     "output_type": "execute_result"
    },
    {
     "data": {
      "image/png": "[encoded data removed]",
      "text/plain": [
       "<Figure size 432x288 with 1 Axes>"
      ]
     },
     "metadata": {
      "needs_background": "light"
     },
     "output_type": "display_data"
    }
   ],
   "source": [
    "# Visualize the probability distribution of the 10-year Monte Carlo simulation \n",
    "# by plotting a histogram\n",
    "MC_ten_year.plot_distribution()\n"
   ]
  },
  {
   "cell_type": "code",
   "execution_count": 43,
   "metadata": {},
   "outputs": [
    {
     "name": "stderr",
     "output_type": "stream",
     "text": [
      "C:\\Users\\jenni\\OneDrive\\Desktop\\FinTech-Workspace\\ModulesorWeeklyChallenges\\Challenge Module 5\\Starter_Code-1\\Starter_Code\\MCForecastTools.py:172: FutureWarning: The series.append method is deprecated and will be removed from pandas in a future version. Use pandas.concat instead.\n",
      "  return metrics.append(ci_series)\n"
     ]
    },
    {
     "data": {
      "text/plain": [
       "count           100.000000\n",
       "mean              2.425891\n",
       "std               0.713354\n",
       "min               0.980950\n",
       "25%               1.946224\n",
       "50%               2.381969\n",
       "75%               2.758963\n",
       "max               4.801617\n",
       "95% CI Lower      1.168447\n",
       "95% CI Upper      3.999574\n",
       "Name: 2520, dtype: float64"
      ]
     },
     "execution_count": 43,
     "metadata": {},
     "output_type": "execute_result"
    }
   ],
   "source": [
    "# Generate summary statistics from the 10-year Monte Carlo simulation results\n",
    "# Save the results as a variable\n",
    "MC_ten_year_summary = MC_ten_year.summarize_cumulative_return()\n",
    "\n",
    "\n",
    "# Review the 10-year Monte Carlo summary statistics\n",
    "MC_ten_year_summary"
   ]
  },
  {
   "cell_type": "markdown",
   "metadata": {},
   "source": [
    "### Answer the following questions:"
   ]
  },
  {
   "cell_type": "markdown",
   "metadata": {},
   "source": [
    "#### Question: Using the current value of only the stock and bond portion of the member's portfolio and the summary statistics that you generated from the new Monte Carlo simulation, what are the lower and upper bounds for the expected value of the portfolio (with the new weights) with a 95% confidence interval?"
   ]
  },
  {
   "cell_type": "code",
   "execution_count": 44,
   "metadata": {},
   "outputs": [
    {
     "name": "stdout",
     "output_type": "stream",
     "text": [
      "The current value of the stocks/bonds portfolio is 70942.8\n"
     ]
    }
   ],
   "source": [
    "# Print the current balance of the stock and bond portion of the members portfolio\n",
    "print(f\"The current value of the stocks/bonds portfolio is {total_stocks_bonds}\")\n"
   ]
  },
  {
   "cell_type": "code",
   "execution_count": 46,
   "metadata": {},
   "outputs": [
    {
     "name": "stdout",
     "output_type": "stream",
     "text": [
      "Given the current value of our stock portfolio, the cumulative returns over the next 10 years is forecast to be between $ 82892.93 and $ 283740.98\n"
     ]
    }
   ],
   "source": [
    "# Use the lower and upper `95%` confidence intervals to calculate the range of the possible outcomes for the current stock/bond portfolio\n",
    "ci_lower_ten_cumulative_return = MC_ten_year_summary[8] * total_stocks_bonds\n",
    "ci_upper_ten_cumulative_return = MC_ten_year_summary[9] * total_stocks_bonds\n",
    "\n",
    "# Print the result of your calculations\n",
    "print(f\"Given the current value of our stock portfolio, the cumulative returns over the next 10 years is forecast to be between ${ci_lower_ten_cumulative_return: .2f} and ${ci_upper_ten_cumulative_return: .2f}\")\n",
    "\n"
   ]
  },
  {
   "cell_type": "markdown",
   "metadata": {},
   "source": [
    "#### Question: Will weighting the portfolio more heavily to stocks allow the credit union members to retire after only 10 years?"
   ]
  },
  {
   "cell_type": "raw",
   "metadata": {},
   "source": [
    "**Answer** \n",
    "Yes they could retire, however, the overall retirement fund would be significantly less at 283,740.98."
   ]
  },
  {
   "cell_type": "code",
   "execution_count": null,
   "metadata": {},
   "outputs": [],
   "source": []
  }
 ],
 "metadata": {
  "kernelspec": {
   "display_name": "Python 3 (ipykernel)",
   "language": "python",
   "name": "python3"
  },
  "language_info": {
   "codemirror_mode": {
    "name": "ipython",
    "version": 3
   },
   "file_extension": ".py",
   "mimetype": "text/x-python",
   "name": "python",
   "nbconvert_exporter": "python",
   "pygments_lexer": "ipython3",
   "version": "3.9.7"
  }
 },
 "nbformat": 4,
 "nbformat_minor": 4
}
